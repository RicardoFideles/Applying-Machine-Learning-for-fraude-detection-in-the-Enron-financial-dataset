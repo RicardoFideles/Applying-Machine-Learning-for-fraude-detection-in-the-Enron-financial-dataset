{
 "cells": [
  {
   "cell_type": "code",
   "execution_count": 50,
   "metadata": {},
   "outputs": [],
   "source": [
    "import pandas as pd\n",
    "import numpy as np"
   ]
  },
  {
   "cell_type": "code",
   "execution_count": 51,
   "metadata": {},
   "outputs": [],
   "source": [
    "import matplotlib\n",
    "import matplotlib.pyplot as plt\n",
    "import seaborn as sns\n",
    "from matplotlib.colors import ListedColormap"
   ]
  },
  {
   "cell_type": "code",
   "execution_count": 52,
   "metadata": {},
   "outputs": [],
   "source": [
    "import sklearn\n",
    "from sklearn.model_selection import train_test_split"
   ]
  },
  {
   "cell_type": "code",
   "execution_count": 53,
   "metadata": {},
   "outputs": [],
   "source": [
    "from sklearn.naive_bayes import GaussianNB\n",
    "from sklearn.neighbors import KNeighborsClassifier"
   ]
  },
  {
   "cell_type": "code",
   "execution_count": 54,
   "metadata": {},
   "outputs": [],
   "source": [
    "from sklearn.metrics import confusion_matrix\n",
    "from sklearn import preprocessing\n",
    "from sklearn import metrics \n",
    "from sklearn.metrics import classification_report\n",
    "from sklearn.metrics import accuracy_score, precision_score, recall_score, f1_score\n",
    "from time import time"
   ]
  },
  {
   "cell_type": "code",
   "execution_count": 56,
   "metadata": {},
   "outputs": [],
   "source": [
    "df = pd.read_csv('enron.csv', index_col=0)\n",
    "df_outliers = pd.DataFrame()"
   ]
  },
  {
   "cell_type": "code",
   "execution_count": 57,
   "metadata": {},
   "outputs": [
    {
     "data": {
      "text/html": [
       "<div>\n",
       "<style scoped>\n",
       "    .dataframe tbody tr th:only-of-type {\n",
       "        vertical-align: middle;\n",
       "    }\n",
       "\n",
       "    .dataframe tbody tr th {\n",
       "        vertical-align: top;\n",
       "    }\n",
       "\n",
       "    .dataframe thead th {\n",
       "        text-align: right;\n",
       "    }\n",
       "</style>\n",
       "<table border=\"1\" class=\"dataframe\">\n",
       "  <thead>\n",
       "    <tr style=\"text-align: right;\">\n",
       "      <th></th>\n",
       "      <th>salary</th>\n",
       "      <th>to_messages</th>\n",
       "      <th>deferral_payments</th>\n",
       "      <th>total_payments</th>\n",
       "      <th>loan_advances</th>\n",
       "      <th>bonus</th>\n",
       "      <th>email_address</th>\n",
       "      <th>restricted_stock_deferred</th>\n",
       "      <th>deferred_income</th>\n",
       "      <th>total_stock_value</th>\n",
       "      <th>...</th>\n",
       "      <th>from_poi_to_this_person</th>\n",
       "      <th>exercised_stock_options</th>\n",
       "      <th>from_messages</th>\n",
       "      <th>other</th>\n",
       "      <th>from_this_person_to_poi</th>\n",
       "      <th>poi</th>\n",
       "      <th>long_term_incentive</th>\n",
       "      <th>shared_receipt_with_poi</th>\n",
       "      <th>restricted_stock</th>\n",
       "      <th>director_fees</th>\n",
       "    </tr>\n",
       "  </thead>\n",
       "  <tbody>\n",
       "    <tr>\n",
       "      <td>ALLEN PHILLIP K</td>\n",
       "      <td>201955.0</td>\n",
       "      <td>2902.0</td>\n",
       "      <td>2869717.0</td>\n",
       "      <td>4484442.0</td>\n",
       "      <td>NaN</td>\n",
       "      <td>4175000.0</td>\n",
       "      <td>phillip.allen@enron.com</td>\n",
       "      <td>-126027.0</td>\n",
       "      <td>-3081055.0</td>\n",
       "      <td>1729541.0</td>\n",
       "      <td>...</td>\n",
       "      <td>47.0</td>\n",
       "      <td>1729541.0</td>\n",
       "      <td>2195.0</td>\n",
       "      <td>152.0</td>\n",
       "      <td>65.0</td>\n",
       "      <td>False</td>\n",
       "      <td>304805.0</td>\n",
       "      <td>1407.0</td>\n",
       "      <td>126027.0</td>\n",
       "      <td>NaN</td>\n",
       "    </tr>\n",
       "    <tr>\n",
       "      <td>BADUM JAMES P</td>\n",
       "      <td>NaN</td>\n",
       "      <td>NaN</td>\n",
       "      <td>178980.0</td>\n",
       "      <td>182466.0</td>\n",
       "      <td>NaN</td>\n",
       "      <td>NaN</td>\n",
       "      <td>NaN</td>\n",
       "      <td>NaN</td>\n",
       "      <td>NaN</td>\n",
       "      <td>257817.0</td>\n",
       "      <td>...</td>\n",
       "      <td>NaN</td>\n",
       "      <td>257817.0</td>\n",
       "      <td>NaN</td>\n",
       "      <td>NaN</td>\n",
       "      <td>NaN</td>\n",
       "      <td>False</td>\n",
       "      <td>NaN</td>\n",
       "      <td>NaN</td>\n",
       "      <td>NaN</td>\n",
       "      <td>NaN</td>\n",
       "    </tr>\n",
       "    <tr>\n",
       "      <td>BANNANTINE JAMES M</td>\n",
       "      <td>477.0</td>\n",
       "      <td>566.0</td>\n",
       "      <td>NaN</td>\n",
       "      <td>916197.0</td>\n",
       "      <td>NaN</td>\n",
       "      <td>NaN</td>\n",
       "      <td>james.bannantine@enron.com</td>\n",
       "      <td>-560222.0</td>\n",
       "      <td>-5104.0</td>\n",
       "      <td>5243487.0</td>\n",
       "      <td>...</td>\n",
       "      <td>39.0</td>\n",
       "      <td>4046157.0</td>\n",
       "      <td>29.0</td>\n",
       "      <td>864523.0</td>\n",
       "      <td>0.0</td>\n",
       "      <td>False</td>\n",
       "      <td>NaN</td>\n",
       "      <td>465.0</td>\n",
       "      <td>1757552.0</td>\n",
       "      <td>NaN</td>\n",
       "    </tr>\n",
       "    <tr>\n",
       "      <td>BAXTER JOHN C</td>\n",
       "      <td>267102.0</td>\n",
       "      <td>NaN</td>\n",
       "      <td>1295738.0</td>\n",
       "      <td>5634343.0</td>\n",
       "      <td>NaN</td>\n",
       "      <td>1200000.0</td>\n",
       "      <td>NaN</td>\n",
       "      <td>NaN</td>\n",
       "      <td>-1386055.0</td>\n",
       "      <td>10623258.0</td>\n",
       "      <td>...</td>\n",
       "      <td>NaN</td>\n",
       "      <td>6680544.0</td>\n",
       "      <td>NaN</td>\n",
       "      <td>2660303.0</td>\n",
       "      <td>NaN</td>\n",
       "      <td>False</td>\n",
       "      <td>1586055.0</td>\n",
       "      <td>NaN</td>\n",
       "      <td>3942714.0</td>\n",
       "      <td>NaN</td>\n",
       "    </tr>\n",
       "    <tr>\n",
       "      <td>BAY FRANKLIN R</td>\n",
       "      <td>239671.0</td>\n",
       "      <td>NaN</td>\n",
       "      <td>260455.0</td>\n",
       "      <td>827696.0</td>\n",
       "      <td>NaN</td>\n",
       "      <td>400000.0</td>\n",
       "      <td>frank.bay@enron.com</td>\n",
       "      <td>-82782.0</td>\n",
       "      <td>-201641.0</td>\n",
       "      <td>63014.0</td>\n",
       "      <td>...</td>\n",
       "      <td>NaN</td>\n",
       "      <td>NaN</td>\n",
       "      <td>NaN</td>\n",
       "      <td>69.0</td>\n",
       "      <td>NaN</td>\n",
       "      <td>False</td>\n",
       "      <td>NaN</td>\n",
       "      <td>NaN</td>\n",
       "      <td>145796.0</td>\n",
       "      <td>NaN</td>\n",
       "    </tr>\n",
       "  </tbody>\n",
       "</table>\n",
       "<p>5 rows × 21 columns</p>\n",
       "</div>"
      ],
      "text/plain": [
       "                      salary  to_messages  deferral_payments  total_payments  \\\n",
       "ALLEN PHILLIP K     201955.0       2902.0          2869717.0       4484442.0   \n",
       "BADUM JAMES P            NaN          NaN           178980.0        182466.0   \n",
       "BANNANTINE JAMES M     477.0        566.0                NaN        916197.0   \n",
       "BAXTER JOHN C       267102.0          NaN          1295738.0       5634343.0   \n",
       "BAY FRANKLIN R      239671.0          NaN           260455.0        827696.0   \n",
       "\n",
       "                    loan_advances      bonus               email_address  \\\n",
       "ALLEN PHILLIP K               NaN  4175000.0     phillip.allen@enron.com   \n",
       "BADUM JAMES P                 NaN        NaN                         NaN   \n",
       "BANNANTINE JAMES M            NaN        NaN  james.bannantine@enron.com   \n",
       "BAXTER JOHN C                 NaN  1200000.0                         NaN   \n",
       "BAY FRANKLIN R                NaN   400000.0         frank.bay@enron.com   \n",
       "\n",
       "                    restricted_stock_deferred  deferred_income  \\\n",
       "ALLEN PHILLIP K                     -126027.0       -3081055.0   \n",
       "BADUM JAMES P                             NaN              NaN   \n",
       "BANNANTINE JAMES M                  -560222.0          -5104.0   \n",
       "BAXTER JOHN C                             NaN       -1386055.0   \n",
       "BAY FRANKLIN R                       -82782.0        -201641.0   \n",
       "\n",
       "                    total_stock_value  ...  from_poi_to_this_person  \\\n",
       "ALLEN PHILLIP K             1729541.0  ...                     47.0   \n",
       "BADUM JAMES P                257817.0  ...                      NaN   \n",
       "BANNANTINE JAMES M          5243487.0  ...                     39.0   \n",
       "BAXTER JOHN C              10623258.0  ...                      NaN   \n",
       "BAY FRANKLIN R                63014.0  ...                      NaN   \n",
       "\n",
       "                    exercised_stock_options  from_messages      other  \\\n",
       "ALLEN PHILLIP K                   1729541.0         2195.0      152.0   \n",
       "BADUM JAMES P                      257817.0            NaN        NaN   \n",
       "BANNANTINE JAMES M                4046157.0           29.0   864523.0   \n",
       "BAXTER JOHN C                     6680544.0            NaN  2660303.0   \n",
       "BAY FRANKLIN R                          NaN            NaN       69.0   \n",
       "\n",
       "                    from_this_person_to_poi    poi  long_term_incentive  \\\n",
       "ALLEN PHILLIP K                        65.0  False             304805.0   \n",
       "BADUM JAMES P                           NaN  False                  NaN   \n",
       "BANNANTINE JAMES M                      0.0  False                  NaN   \n",
       "BAXTER JOHN C                           NaN  False            1586055.0   \n",
       "BAY FRANKLIN R                          NaN  False                  NaN   \n",
       "\n",
       "                    shared_receipt_with_poi  restricted_stock  director_fees  \n",
       "ALLEN PHILLIP K                      1407.0          126027.0            NaN  \n",
       "BADUM JAMES P                           NaN               NaN            NaN  \n",
       "BANNANTINE JAMES M                    465.0         1757552.0            NaN  \n",
       "BAXTER JOHN C                           NaN         3942714.0            NaN  \n",
       "BAY FRANKLIN R                          NaN          145796.0            NaN  \n",
       "\n",
       "[5 rows x 21 columns]"
      ]
     },
     "execution_count": 57,
     "metadata": {},
     "output_type": "execute_result"
    }
   ],
   "source": [
    "df.head()"
   ]
  },
  {
   "cell_type": "markdown",
   "metadata": {},
   "source": [
    "## Data Exploration"
   ]
  },
  {
   "cell_type": "code",
   "execution_count": 58,
   "metadata": {},
   "outputs": [
    {
     "data": {
      "text/html": [
       "<div>\n",
       "<style scoped>\n",
       "    .dataframe tbody tr th:only-of-type {\n",
       "        vertical-align: middle;\n",
       "    }\n",
       "\n",
       "    .dataframe tbody tr th {\n",
       "        vertical-align: top;\n",
       "    }\n",
       "\n",
       "    .dataframe thead th {\n",
       "        text-align: right;\n",
       "    }\n",
       "</style>\n",
       "<table border=\"1\" class=\"dataframe\">\n",
       "  <thead>\n",
       "    <tr style=\"text-align: right;\">\n",
       "      <th></th>\n",
       "      <th>salary</th>\n",
       "      <th>to_messages</th>\n",
       "      <th>deferral_payments</th>\n",
       "      <th>total_payments</th>\n",
       "      <th>loan_advances</th>\n",
       "      <th>bonus</th>\n",
       "      <th>email_address</th>\n",
       "      <th>restricted_stock_deferred</th>\n",
       "      <th>deferred_income</th>\n",
       "      <th>total_stock_value</th>\n",
       "      <th>...</th>\n",
       "      <th>from_poi_to_this_person</th>\n",
       "      <th>exercised_stock_options</th>\n",
       "      <th>from_messages</th>\n",
       "      <th>other</th>\n",
       "      <th>from_this_person_to_poi</th>\n",
       "      <th>poi</th>\n",
       "      <th>long_term_incentive</th>\n",
       "      <th>shared_receipt_with_poi</th>\n",
       "      <th>restricted_stock</th>\n",
       "      <th>director_fees</th>\n",
       "    </tr>\n",
       "  </thead>\n",
       "  <tbody>\n",
       "    <tr>\n",
       "      <td>ALLEN PHILLIP K</td>\n",
       "      <td>201955.0</td>\n",
       "      <td>2902.0</td>\n",
       "      <td>2869717.0</td>\n",
       "      <td>4484442.0</td>\n",
       "      <td>NaN</td>\n",
       "      <td>4175000.0</td>\n",
       "      <td>phillip.allen@enron.com</td>\n",
       "      <td>-126027.0</td>\n",
       "      <td>-3081055.0</td>\n",
       "      <td>1729541.0</td>\n",
       "      <td>...</td>\n",
       "      <td>47.0</td>\n",
       "      <td>1729541.0</td>\n",
       "      <td>2195.0</td>\n",
       "      <td>152.0</td>\n",
       "      <td>65.0</td>\n",
       "      <td>False</td>\n",
       "      <td>304805.0</td>\n",
       "      <td>1407.0</td>\n",
       "      <td>126027.0</td>\n",
       "      <td>NaN</td>\n",
       "    </tr>\n",
       "    <tr>\n",
       "      <td>BADUM JAMES P</td>\n",
       "      <td>NaN</td>\n",
       "      <td>NaN</td>\n",
       "      <td>178980.0</td>\n",
       "      <td>182466.0</td>\n",
       "      <td>NaN</td>\n",
       "      <td>NaN</td>\n",
       "      <td>NaN</td>\n",
       "      <td>NaN</td>\n",
       "      <td>NaN</td>\n",
       "      <td>257817.0</td>\n",
       "      <td>...</td>\n",
       "      <td>NaN</td>\n",
       "      <td>257817.0</td>\n",
       "      <td>NaN</td>\n",
       "      <td>NaN</td>\n",
       "      <td>NaN</td>\n",
       "      <td>False</td>\n",
       "      <td>NaN</td>\n",
       "      <td>NaN</td>\n",
       "      <td>NaN</td>\n",
       "      <td>NaN</td>\n",
       "    </tr>\n",
       "  </tbody>\n",
       "</table>\n",
       "<p>2 rows × 21 columns</p>\n",
       "</div>"
      ],
      "text/plain": [
       "                   salary  to_messages  deferral_payments  total_payments  \\\n",
       "ALLEN PHILLIP K  201955.0       2902.0          2869717.0       4484442.0   \n",
       "BADUM JAMES P         NaN          NaN           178980.0        182466.0   \n",
       "\n",
       "                 loan_advances      bonus            email_address  \\\n",
       "ALLEN PHILLIP K            NaN  4175000.0  phillip.allen@enron.com   \n",
       "BADUM JAMES P              NaN        NaN                      NaN   \n",
       "\n",
       "                 restricted_stock_deferred  deferred_income  \\\n",
       "ALLEN PHILLIP K                  -126027.0       -3081055.0   \n",
       "BADUM JAMES P                          NaN              NaN   \n",
       "\n",
       "                 total_stock_value  ...  from_poi_to_this_person  \\\n",
       "ALLEN PHILLIP K          1729541.0  ...                     47.0   \n",
       "BADUM JAMES P             257817.0  ...                      NaN   \n",
       "\n",
       "                 exercised_stock_options  from_messages  other  \\\n",
       "ALLEN PHILLIP K                1729541.0         2195.0  152.0   \n",
       "BADUM JAMES P                   257817.0            NaN    NaN   \n",
       "\n",
       "                 from_this_person_to_poi    poi  long_term_incentive  \\\n",
       "ALLEN PHILLIP K                     65.0  False             304805.0   \n",
       "BADUM JAMES P                        NaN  False                  NaN   \n",
       "\n",
       "                 shared_receipt_with_poi  restricted_stock  director_fees  \n",
       "ALLEN PHILLIP K                   1407.0          126027.0            NaN  \n",
       "BADUM JAMES P                        NaN               NaN            NaN  \n",
       "\n",
       "[2 rows x 21 columns]"
      ]
     },
     "execution_count": 58,
     "metadata": {},
     "output_type": "execute_result"
    }
   ],
   "source": [
    "# Using head() method with an argument which helps us to restrict the number of initial records that \n",
    "#should be displayed\n",
    "df.head(n=2)"
   ]
  },
  {
   "cell_type": "code",
   "execution_count": 59,
   "metadata": {},
   "outputs": [
    {
     "data": {
      "text/html": [
       "<div>\n",
       "<style scoped>\n",
       "    .dataframe tbody tr th:only-of-type {\n",
       "        vertical-align: middle;\n",
       "    }\n",
       "\n",
       "    .dataframe tbody tr th {\n",
       "        vertical-align: top;\n",
       "    }\n",
       "\n",
       "    .dataframe thead th {\n",
       "        text-align: right;\n",
       "    }\n",
       "</style>\n",
       "<table border=\"1\" class=\"dataframe\">\n",
       "  <thead>\n",
       "    <tr style=\"text-align: right;\">\n",
       "      <th></th>\n",
       "      <th>salary</th>\n",
       "      <th>to_messages</th>\n",
       "      <th>deferral_payments</th>\n",
       "      <th>total_payments</th>\n",
       "      <th>loan_advances</th>\n",
       "      <th>bonus</th>\n",
       "      <th>email_address</th>\n",
       "      <th>restricted_stock_deferred</th>\n",
       "      <th>deferred_income</th>\n",
       "      <th>total_stock_value</th>\n",
       "      <th>...</th>\n",
       "      <th>from_poi_to_this_person</th>\n",
       "      <th>exercised_stock_options</th>\n",
       "      <th>from_messages</th>\n",
       "      <th>other</th>\n",
       "      <th>from_this_person_to_poi</th>\n",
       "      <th>poi</th>\n",
       "      <th>long_term_incentive</th>\n",
       "      <th>shared_receipt_with_poi</th>\n",
       "      <th>restricted_stock</th>\n",
       "      <th>director_fees</th>\n",
       "    </tr>\n",
       "  </thead>\n",
       "  <tbody>\n",
       "    <tr>\n",
       "      <td>WINOKUR JR. HERBERT S</td>\n",
       "      <td>NaN</td>\n",
       "      <td>NaN</td>\n",
       "      <td>NaN</td>\n",
       "      <td>84992.0</td>\n",
       "      <td>NaN</td>\n",
       "      <td>NaN</td>\n",
       "      <td>NaN</td>\n",
       "      <td>NaN</td>\n",
       "      <td>-25000.0</td>\n",
       "      <td>NaN</td>\n",
       "      <td>...</td>\n",
       "      <td>NaN</td>\n",
       "      <td>NaN</td>\n",
       "      <td>NaN</td>\n",
       "      <td>NaN</td>\n",
       "      <td>NaN</td>\n",
       "      <td>False</td>\n",
       "      <td>NaN</td>\n",
       "      <td>NaN</td>\n",
       "      <td>NaN</td>\n",
       "      <td>108579.0</td>\n",
       "    </tr>\n",
       "    <tr>\n",
       "      <td>WODRASKA JOHN</td>\n",
       "      <td>NaN</td>\n",
       "      <td>NaN</td>\n",
       "      <td>NaN</td>\n",
       "      <td>189583.0</td>\n",
       "      <td>NaN</td>\n",
       "      <td>NaN</td>\n",
       "      <td>john.wodraska@enron.com</td>\n",
       "      <td>NaN</td>\n",
       "      <td>NaN</td>\n",
       "      <td>NaN</td>\n",
       "      <td>...</td>\n",
       "      <td>NaN</td>\n",
       "      <td>NaN</td>\n",
       "      <td>NaN</td>\n",
       "      <td>189583.0</td>\n",
       "      <td>NaN</td>\n",
       "      <td>False</td>\n",
       "      <td>NaN</td>\n",
       "      <td>NaN</td>\n",
       "      <td>NaN</td>\n",
       "      <td>NaN</td>\n",
       "    </tr>\n",
       "    <tr>\n",
       "      <td>WROBEL BRUCE</td>\n",
       "      <td>NaN</td>\n",
       "      <td>NaN</td>\n",
       "      <td>NaN</td>\n",
       "      <td>NaN</td>\n",
       "      <td>NaN</td>\n",
       "      <td>NaN</td>\n",
       "      <td>NaN</td>\n",
       "      <td>NaN</td>\n",
       "      <td>NaN</td>\n",
       "      <td>139130.0</td>\n",
       "      <td>...</td>\n",
       "      <td>NaN</td>\n",
       "      <td>139130.0</td>\n",
       "      <td>NaN</td>\n",
       "      <td>NaN</td>\n",
       "      <td>NaN</td>\n",
       "      <td>False</td>\n",
       "      <td>NaN</td>\n",
       "      <td>NaN</td>\n",
       "      <td>NaN</td>\n",
       "      <td>NaN</td>\n",
       "    </tr>\n",
       "    <tr>\n",
       "      <td>YEAGER F SCOTT</td>\n",
       "      <td>158403.0</td>\n",
       "      <td>NaN</td>\n",
       "      <td>NaN</td>\n",
       "      <td>360300.0</td>\n",
       "      <td>NaN</td>\n",
       "      <td>NaN</td>\n",
       "      <td>scott.yeager@enron.com</td>\n",
       "      <td>NaN</td>\n",
       "      <td>NaN</td>\n",
       "      <td>11884758.0</td>\n",
       "      <td>...</td>\n",
       "      <td>NaN</td>\n",
       "      <td>8308552.0</td>\n",
       "      <td>NaN</td>\n",
       "      <td>147950.0</td>\n",
       "      <td>NaN</td>\n",
       "      <td>True</td>\n",
       "      <td>NaN</td>\n",
       "      <td>NaN</td>\n",
       "      <td>3576206.0</td>\n",
       "      <td>NaN</td>\n",
       "    </tr>\n",
       "    <tr>\n",
       "      <td>YEAP SOON</td>\n",
       "      <td>NaN</td>\n",
       "      <td>NaN</td>\n",
       "      <td>NaN</td>\n",
       "      <td>55097.0</td>\n",
       "      <td>NaN</td>\n",
       "      <td>NaN</td>\n",
       "      <td>NaN</td>\n",
       "      <td>NaN</td>\n",
       "      <td>NaN</td>\n",
       "      <td>192758.0</td>\n",
       "      <td>...</td>\n",
       "      <td>NaN</td>\n",
       "      <td>192758.0</td>\n",
       "      <td>NaN</td>\n",
       "      <td>NaN</td>\n",
       "      <td>NaN</td>\n",
       "      <td>False</td>\n",
       "      <td>NaN</td>\n",
       "      <td>NaN</td>\n",
       "      <td>NaN</td>\n",
       "      <td>NaN</td>\n",
       "    </tr>\n",
       "  </tbody>\n",
       "</table>\n",
       "<p>5 rows × 21 columns</p>\n",
       "</div>"
      ],
      "text/plain": [
       "                         salary  to_messages  deferral_payments  \\\n",
       "WINOKUR JR. HERBERT S       NaN          NaN                NaN   \n",
       "WODRASKA JOHN               NaN          NaN                NaN   \n",
       "WROBEL BRUCE                NaN          NaN                NaN   \n",
       "YEAGER F SCOTT         158403.0          NaN                NaN   \n",
       "YEAP SOON                   NaN          NaN                NaN   \n",
       "\n",
       "                       total_payments  loan_advances  bonus  \\\n",
       "WINOKUR JR. HERBERT S         84992.0            NaN    NaN   \n",
       "WODRASKA JOHN                189583.0            NaN    NaN   \n",
       "WROBEL BRUCE                      NaN            NaN    NaN   \n",
       "YEAGER F SCOTT               360300.0            NaN    NaN   \n",
       "YEAP SOON                     55097.0            NaN    NaN   \n",
       "\n",
       "                                 email_address  restricted_stock_deferred  \\\n",
       "WINOKUR JR. HERBERT S                      NaN                        NaN   \n",
       "WODRASKA JOHN          john.wodraska@enron.com                        NaN   \n",
       "WROBEL BRUCE                               NaN                        NaN   \n",
       "YEAGER F SCOTT          scott.yeager@enron.com                        NaN   \n",
       "YEAP SOON                                  NaN                        NaN   \n",
       "\n",
       "                       deferred_income  total_stock_value  ...  \\\n",
       "WINOKUR JR. HERBERT S         -25000.0                NaN  ...   \n",
       "WODRASKA JOHN                      NaN                NaN  ...   \n",
       "WROBEL BRUCE                       NaN           139130.0  ...   \n",
       "YEAGER F SCOTT                     NaN         11884758.0  ...   \n",
       "YEAP SOON                          NaN           192758.0  ...   \n",
       "\n",
       "                       from_poi_to_this_person  exercised_stock_options  \\\n",
       "WINOKUR JR. HERBERT S                      NaN                      NaN   \n",
       "WODRASKA JOHN                              NaN                      NaN   \n",
       "WROBEL BRUCE                               NaN                 139130.0   \n",
       "YEAGER F SCOTT                             NaN                8308552.0   \n",
       "YEAP SOON                                  NaN                 192758.0   \n",
       "\n",
       "                       from_messages     other  from_this_person_to_poi  \\\n",
       "WINOKUR JR. HERBERT S            NaN       NaN                      NaN   \n",
       "WODRASKA JOHN                    NaN  189583.0                      NaN   \n",
       "WROBEL BRUCE                     NaN       NaN                      NaN   \n",
       "YEAGER F SCOTT                   NaN  147950.0                      NaN   \n",
       "YEAP SOON                        NaN       NaN                      NaN   \n",
       "\n",
       "                         poi  long_term_incentive  shared_receipt_with_poi  \\\n",
       "WINOKUR JR. HERBERT S  False                  NaN                      NaN   \n",
       "WODRASKA JOHN          False                  NaN                      NaN   \n",
       "WROBEL BRUCE           False                  NaN                      NaN   \n",
       "YEAGER F SCOTT          True                  NaN                      NaN   \n",
       "YEAP SOON              False                  NaN                      NaN   \n",
       "\n",
       "                       restricted_stock  director_fees  \n",
       "WINOKUR JR. HERBERT S               NaN       108579.0  \n",
       "WODRASKA JOHN                       NaN            NaN  \n",
       "WROBEL BRUCE                        NaN            NaN  \n",
       "YEAGER F SCOTT                3576206.0            NaN  \n",
       "YEAP SOON                           NaN            NaN  \n",
       "\n",
       "[5 rows x 21 columns]"
      ]
     },
     "execution_count": 59,
     "metadata": {},
     "output_type": "execute_result"
    }
   ],
   "source": [
    "# Using .tail() method to view the last few records from the dataframe\n",
    "df.tail()"
   ]
  },
  {
   "cell_type": "code",
   "execution_count": 60,
   "metadata": {},
   "outputs": [
    {
     "name": "stdout",
     "output_type": "stream",
     "text": [
      "Numbers of rows  : 146\n",
      "Numbers of columns : 21\n"
     ]
    }
   ],
   "source": [
    "print (\"Numbers of rows  : {}\".format(len(df)))\n",
    "print (\"Numbers of columns : {}\".format(len(df.columns)))"
   ]
  },
  {
   "cell_type": "code",
   "execution_count": 61,
   "metadata": {},
   "outputs": [
    {
     "name": "stdout",
     "output_type": "stream",
     "text": [
      "Numbers of POI's : 18\n",
      "Numbers of NON-POI's : 128\n"
     ]
    }
   ],
   "source": [
    "print (\"Numbers of POI's : {}\".format(df[df['poi'] == True].poi.count()))\n",
    "print (\"Numbers of NON-POI's : {}\".format(df[df['poi'] != True].poi.count()))"
   ]
  },
  {
   "cell_type": "code",
   "execution_count": 62,
   "metadata": {},
   "outputs": [
    {
     "data": {
      "text/plain": [
       "salary                       float64\n",
       "to_messages                  float64\n",
       "deferral_payments            float64\n",
       "total_payments               float64\n",
       "loan_advances                float64\n",
       "bonus                        float64\n",
       "email_address                 object\n",
       "restricted_stock_deferred    float64\n",
       "deferred_income              float64\n",
       "total_stock_value            float64\n",
       "expenses                     float64\n",
       "from_poi_to_this_person      float64\n",
       "exercised_stock_options      float64\n",
       "from_messages                float64\n",
       "other                        float64\n",
       "from_this_person_to_poi      float64\n",
       "poi                             bool\n",
       "long_term_incentive          float64\n",
       "shared_receipt_with_poi      float64\n",
       "restricted_stock             float64\n",
       "director_fees                float64\n",
       "dtype: object"
      ]
     },
     "execution_count": 62,
     "metadata": {},
     "output_type": "execute_result"
    }
   ],
   "source": [
    "# using the dtypes() method to display the different datatypes available\n",
    "df.dtypes"
   ]
  },
  {
   "cell_type": "markdown",
   "metadata": {},
   "source": [
    "## Data Cleaning"
   ]
  },
  {
   "cell_type": "code",
   "execution_count": 63,
   "metadata": {},
   "outputs": [],
   "source": [
    "df_null = df.isnull().sum()"
   ]
  },
  {
   "cell_type": "code",
   "execution_count": 64,
   "metadata": {},
   "outputs": [
    {
     "data": {
      "text/plain": [
       "salary                        51\n",
       "to_messages                   60\n",
       "deferral_payments            107\n",
       "total_payments                21\n",
       "loan_advances                142\n",
       "bonus                         64\n",
       "email_address                 35\n",
       "restricted_stock_deferred    128\n",
       "deferred_income               97\n",
       "total_stock_value             20\n",
       "expenses                      51\n",
       "from_poi_to_this_person       60\n",
       "exercised_stock_options       44\n",
       "from_messages                 60\n",
       "other                         53\n",
       "from_this_person_to_poi       60\n",
       "poi                            0\n",
       "long_term_incentive           80\n",
       "shared_receipt_with_poi       60\n",
       "restricted_stock              36\n",
       "director_fees                129\n",
       "dtype: int64"
      ]
     },
     "execution_count": 64,
     "metadata": {},
     "output_type": "execute_result"
    }
   ],
   "source": [
    "df_null"
   ]
  },
  {
   "cell_type": "code",
   "execution_count": 65,
   "metadata": {},
   "outputs": [],
   "source": [
    "# transforming the data boolean to numeric.\n",
    "df['poi'] = df['poi'].map({True: 1,False: 0})\n",
    "\n",
    "# replacing all NAN values to zero.\n",
    "df = df.replace(np.NaN, 0)"
   ]
  },
  {
   "cell_type": "code",
   "execution_count": 66,
   "metadata": {},
   "outputs": [
    {
     "data": {
      "text/plain": [
       "salary                       0\n",
       "to_messages                  0\n",
       "deferral_payments            0\n",
       "total_payments               0\n",
       "loan_advances                0\n",
       "bonus                        0\n",
       "email_address                0\n",
       "restricted_stock_deferred    0\n",
       "deferred_income              0\n",
       "total_stock_value            0\n",
       "expenses                     0\n",
       "from_poi_to_this_person      0\n",
       "exercised_stock_options      0\n",
       "from_messages                0\n",
       "other                        0\n",
       "from_this_person_to_poi      0\n",
       "poi                          0\n",
       "long_term_incentive          0\n",
       "shared_receipt_with_poi      0\n",
       "restricted_stock             0\n",
       "director_fees                0\n",
       "dtype: int64"
      ]
     },
     "execution_count": 66,
     "metadata": {},
     "output_type": "execute_result"
    }
   ],
   "source": [
    "df.isnull().sum()"
   ]
  },
  {
   "cell_type": "code",
   "execution_count": 67,
   "metadata": {},
   "outputs": [
    {
     "data": {
      "text/html": [
       "<div>\n",
       "<style scoped>\n",
       "    .dataframe tbody tr th:only-of-type {\n",
       "        vertical-align: middle;\n",
       "    }\n",
       "\n",
       "    .dataframe tbody tr th {\n",
       "        vertical-align: top;\n",
       "    }\n",
       "\n",
       "    .dataframe thead th {\n",
       "        text-align: right;\n",
       "    }\n",
       "</style>\n",
       "<table border=\"1\" class=\"dataframe\">\n",
       "  <thead>\n",
       "    <tr style=\"text-align: right;\">\n",
       "      <th></th>\n",
       "      <th>salary</th>\n",
       "      <th>to_messages</th>\n",
       "      <th>deferral_payments</th>\n",
       "      <th>total_payments</th>\n",
       "      <th>loan_advances</th>\n",
       "      <th>bonus</th>\n",
       "      <th>email_address</th>\n",
       "      <th>restricted_stock_deferred</th>\n",
       "      <th>deferred_income</th>\n",
       "      <th>total_stock_value</th>\n",
       "      <th>...</th>\n",
       "      <th>from_poi_to_this_person</th>\n",
       "      <th>exercised_stock_options</th>\n",
       "      <th>from_messages</th>\n",
       "      <th>other</th>\n",
       "      <th>from_this_person_to_poi</th>\n",
       "      <th>poi</th>\n",
       "      <th>long_term_incentive</th>\n",
       "      <th>shared_receipt_with_poi</th>\n",
       "      <th>restricted_stock</th>\n",
       "      <th>director_fees</th>\n",
       "    </tr>\n",
       "  </thead>\n",
       "  <tbody>\n",
       "    <tr>\n",
       "      <td>YEAP SOON</td>\n",
       "      <td>0.0</td>\n",
       "      <td>0.0</td>\n",
       "      <td>0.0</td>\n",
       "      <td>55097.0</td>\n",
       "      <td>0.0</td>\n",
       "      <td>0.0</td>\n",
       "      <td>0</td>\n",
       "      <td>0.0</td>\n",
       "      <td>0.0</td>\n",
       "      <td>192758.0</td>\n",
       "      <td>...</td>\n",
       "      <td>0.0</td>\n",
       "      <td>192758.0</td>\n",
       "      <td>0.0</td>\n",
       "      <td>0.0</td>\n",
       "      <td>0.0</td>\n",
       "      <td>0</td>\n",
       "      <td>0.0</td>\n",
       "      <td>0.0</td>\n",
       "      <td>0.0</td>\n",
       "      <td>0.0</td>\n",
       "    </tr>\n",
       "  </tbody>\n",
       "</table>\n",
       "<p>1 rows × 21 columns</p>\n",
       "</div>"
      ],
      "text/plain": [
       "           salary  to_messages  deferral_payments  total_payments  \\\n",
       "YEAP SOON     0.0          0.0                0.0         55097.0   \n",
       "\n",
       "           loan_advances  bonus email_address  restricted_stock_deferred  \\\n",
       "YEAP SOON            0.0    0.0             0                        0.0   \n",
       "\n",
       "           deferred_income  total_stock_value  ...  from_poi_to_this_person  \\\n",
       "YEAP SOON              0.0           192758.0  ...                      0.0   \n",
       "\n",
       "           exercised_stock_options  from_messages  other  \\\n",
       "YEAP SOON                 192758.0            0.0    0.0   \n",
       "\n",
       "           from_this_person_to_poi  poi  long_term_incentive  \\\n",
       "YEAP SOON                      0.0    0                  0.0   \n",
       "\n",
       "           shared_receipt_with_poi  restricted_stock  director_fees  \n",
       "YEAP SOON                      0.0               0.0            0.0  \n",
       "\n",
       "[1 rows x 21 columns]"
      ]
     },
     "execution_count": 67,
     "metadata": {},
     "output_type": "execute_result"
    }
   ],
   "source": [
    "df.tail(n=1)"
   ]
  },
  {
   "cell_type": "code",
   "execution_count": 68,
   "metadata": {},
   "outputs": [
    {
     "name": "stderr",
     "output_type": "stream",
     "text": [
      "/Applications/anaconda3/lib/python3.7/site-packages/ipykernel_launcher.py:4: FutureWarning: \n",
      ".ix is deprecated. Please use\n",
      ".loc for label based indexing or\n",
      ".iloc for positional indexing\n",
      "\n",
      "See the documentation here:\n",
      "http://pandas.pydata.org/pandas-docs/stable/user_guide/indexing.html#ix-indexer-is-deprecated\n",
      "  after removing the cwd from sys.path.\n",
      "/Applications/anaconda3/lib/python3.7/site-packages/pandas/core/indexing.py:822: FutureWarning: \n",
      ".ix is deprecated. Please use\n",
      ".loc for label based indexing or\n",
      ".iloc for positional indexing\n",
      "\n",
      "See the documentation here:\n",
      "http://pandas.pydata.org/pandas-docs/stable/user_guide/indexing.html#ix-indexer-is-deprecated\n",
      "  retval = getattr(retval, self.name)._getitem_axis(key, axis=i)\n"
     ]
    }
   ],
   "source": [
    "# Moving the target to the fist collumn\n",
    "cols = list(df)\n",
    "cols.insert(0, cols.pop(cols.index('poi')))\n",
    "df = df.ix[:, cols]"
   ]
  },
  {
   "cell_type": "code",
   "execution_count": 69,
   "metadata": {},
   "outputs": [
    {
     "data": {
      "text/html": [
       "<div>\n",
       "<style scoped>\n",
       "    .dataframe tbody tr th:only-of-type {\n",
       "        vertical-align: middle;\n",
       "    }\n",
       "\n",
       "    .dataframe tbody tr th {\n",
       "        vertical-align: top;\n",
       "    }\n",
       "\n",
       "    .dataframe thead th {\n",
       "        text-align: right;\n",
       "    }\n",
       "</style>\n",
       "<table border=\"1\" class=\"dataframe\">\n",
       "  <thead>\n",
       "    <tr style=\"text-align: right;\">\n",
       "      <th></th>\n",
       "      <th>poi</th>\n",
       "      <th>salary</th>\n",
       "      <th>to_messages</th>\n",
       "      <th>deferral_payments</th>\n",
       "      <th>total_payments</th>\n",
       "      <th>loan_advances</th>\n",
       "      <th>bonus</th>\n",
       "      <th>email_address</th>\n",
       "      <th>restricted_stock_deferred</th>\n",
       "      <th>deferred_income</th>\n",
       "      <th>...</th>\n",
       "      <th>expenses</th>\n",
       "      <th>from_poi_to_this_person</th>\n",
       "      <th>exercised_stock_options</th>\n",
       "      <th>from_messages</th>\n",
       "      <th>other</th>\n",
       "      <th>from_this_person_to_poi</th>\n",
       "      <th>long_term_incentive</th>\n",
       "      <th>shared_receipt_with_poi</th>\n",
       "      <th>restricted_stock</th>\n",
       "      <th>director_fees</th>\n",
       "    </tr>\n",
       "  </thead>\n",
       "  <tbody>\n",
       "    <tr>\n",
       "      <td>ALLEN PHILLIP K</td>\n",
       "      <td>0</td>\n",
       "      <td>201955.0</td>\n",
       "      <td>2902.0</td>\n",
       "      <td>2869717.0</td>\n",
       "      <td>4484442.0</td>\n",
       "      <td>0.0</td>\n",
       "      <td>4175000.0</td>\n",
       "      <td>phillip.allen@enron.com</td>\n",
       "      <td>-126027.0</td>\n",
       "      <td>-3081055.0</td>\n",
       "      <td>...</td>\n",
       "      <td>13868.0</td>\n",
       "      <td>47.0</td>\n",
       "      <td>1729541.0</td>\n",
       "      <td>2195.0</td>\n",
       "      <td>152.0</td>\n",
       "      <td>65.0</td>\n",
       "      <td>304805.0</td>\n",
       "      <td>1407.0</td>\n",
       "      <td>126027.0</td>\n",
       "      <td>0.0</td>\n",
       "    </tr>\n",
       "  </tbody>\n",
       "</table>\n",
       "<p>1 rows × 21 columns</p>\n",
       "</div>"
      ],
      "text/plain": [
       "                 poi    salary  to_messages  deferral_payments  \\\n",
       "ALLEN PHILLIP K    0  201955.0       2902.0          2869717.0   \n",
       "\n",
       "                 total_payments  loan_advances      bonus  \\\n",
       "ALLEN PHILLIP K       4484442.0            0.0  4175000.0   \n",
       "\n",
       "                           email_address  restricted_stock_deferred  \\\n",
       "ALLEN PHILLIP K  phillip.allen@enron.com                  -126027.0   \n",
       "\n",
       "                 deferred_income  ...  expenses  from_poi_to_this_person  \\\n",
       "ALLEN PHILLIP K       -3081055.0  ...   13868.0                     47.0   \n",
       "\n",
       "                 exercised_stock_options  from_messages  other  \\\n",
       "ALLEN PHILLIP K                1729541.0         2195.0  152.0   \n",
       "\n",
       "                 from_this_person_to_poi  long_term_incentive  \\\n",
       "ALLEN PHILLIP K                     65.0             304805.0   \n",
       "\n",
       "                 shared_receipt_with_poi  restricted_stock  director_fees  \n",
       "ALLEN PHILLIP K                   1407.0          126027.0            0.0  \n",
       "\n",
       "[1 rows x 21 columns]"
      ]
     },
     "execution_count": 69,
     "metadata": {},
     "output_type": "execute_result"
    }
   ],
   "source": [
    "df.head(n=1)"
   ]
  },
  {
   "cell_type": "code",
   "execution_count": 70,
   "metadata": {},
   "outputs": [
    {
     "data": {
      "text/plain": [
       "ALLEN PHILLIP K             phillip.allen@enron.com\n",
       "BADUM JAMES P                                     0\n",
       "BANNANTINE JAMES M       james.bannantine@enron.com\n",
       "BAXTER JOHN C                                     0\n",
       "BAY FRANKLIN R                  frank.bay@enron.com\n",
       "                                    ...            \n",
       "WINOKUR JR. HERBERT S                             0\n",
       "WODRASKA JOHN               john.wodraska@enron.com\n",
       "WROBEL BRUCE                                      0\n",
       "YEAGER F SCOTT               scott.yeager@enron.com\n",
       "YEAP SOON                                         0\n",
       "Name: email_address, Length: 146, dtype: object"
      ]
     },
     "execution_count": 70,
     "metadata": {},
     "output_type": "execute_result"
    }
   ],
   "source": [
    "df['email_address']"
   ]
  },
  {
   "cell_type": "markdown",
   "metadata": {},
   "source": [
    "The column 'email_address' contains the email of each person on the dataset for the propose of this project that is try to predict a person of interested this column will not help up, so because of that I'm going to remove it."
   ]
  },
  {
   "cell_type": "code",
   "execution_count": 71,
   "metadata": {},
   "outputs": [],
   "source": [
    "# Removing the email collunmn, because it will not be used.\n",
    "df.drop(['email_address'], axis=1, inplace=True)"
   ]
  },
  {
   "cell_type": "code",
   "execution_count": 72,
   "metadata": {},
   "outputs": [
    {
     "data": {
      "text/html": [
       "<div>\n",
       "<style scoped>\n",
       "    .dataframe tbody tr th:only-of-type {\n",
       "        vertical-align: middle;\n",
       "    }\n",
       "\n",
       "    .dataframe tbody tr th {\n",
       "        vertical-align: top;\n",
       "    }\n",
       "\n",
       "    .dataframe thead th {\n",
       "        text-align: right;\n",
       "    }\n",
       "</style>\n",
       "<table border=\"1\" class=\"dataframe\">\n",
       "  <thead>\n",
       "    <tr style=\"text-align: right;\">\n",
       "      <th></th>\n",
       "      <th>poi</th>\n",
       "      <th>salary</th>\n",
       "      <th>to_messages</th>\n",
       "      <th>deferral_payments</th>\n",
       "      <th>total_payments</th>\n",
       "      <th>loan_advances</th>\n",
       "      <th>bonus</th>\n",
       "      <th>restricted_stock_deferred</th>\n",
       "      <th>deferred_income</th>\n",
       "      <th>total_stock_value</th>\n",
       "      <th>expenses</th>\n",
       "      <th>from_poi_to_this_person</th>\n",
       "      <th>exercised_stock_options</th>\n",
       "      <th>from_messages</th>\n",
       "      <th>other</th>\n",
       "      <th>from_this_person_to_poi</th>\n",
       "      <th>long_term_incentive</th>\n",
       "      <th>shared_receipt_with_poi</th>\n",
       "      <th>restricted_stock</th>\n",
       "      <th>director_fees</th>\n",
       "    </tr>\n",
       "  </thead>\n",
       "  <tbody>\n",
       "    <tr>\n",
       "      <td>ALLEN PHILLIP K</td>\n",
       "      <td>0</td>\n",
       "      <td>201955.0</td>\n",
       "      <td>2902.0</td>\n",
       "      <td>2869717.0</td>\n",
       "      <td>4484442.0</td>\n",
       "      <td>0.0</td>\n",
       "      <td>4175000.0</td>\n",
       "      <td>-126027.0</td>\n",
       "      <td>-3081055.0</td>\n",
       "      <td>1729541.0</td>\n",
       "      <td>13868.0</td>\n",
       "      <td>47.0</td>\n",
       "      <td>1729541.0</td>\n",
       "      <td>2195.0</td>\n",
       "      <td>152.0</td>\n",
       "      <td>65.0</td>\n",
       "      <td>304805.0</td>\n",
       "      <td>1407.0</td>\n",
       "      <td>126027.0</td>\n",
       "      <td>0.0</td>\n",
       "    </tr>\n",
       "  </tbody>\n",
       "</table>\n",
       "</div>"
      ],
      "text/plain": [
       "                 poi    salary  to_messages  deferral_payments  \\\n",
       "ALLEN PHILLIP K    0  201955.0       2902.0          2869717.0   \n",
       "\n",
       "                 total_payments  loan_advances      bonus  \\\n",
       "ALLEN PHILLIP K       4484442.0            0.0  4175000.0   \n",
       "\n",
       "                 restricted_stock_deferred  deferred_income  \\\n",
       "ALLEN PHILLIP K                  -126027.0       -3081055.0   \n",
       "\n",
       "                 total_stock_value  expenses  from_poi_to_this_person  \\\n",
       "ALLEN PHILLIP K          1729541.0   13868.0                     47.0   \n",
       "\n",
       "                 exercised_stock_options  from_messages  other  \\\n",
       "ALLEN PHILLIP K                1729541.0         2195.0  152.0   \n",
       "\n",
       "                 from_this_person_to_poi  long_term_incentive  \\\n",
       "ALLEN PHILLIP K                     65.0             304805.0   \n",
       "\n",
       "                 shared_receipt_with_poi  restricted_stock  director_fees  \n",
       "ALLEN PHILLIP K                   1407.0          126027.0            0.0  "
      ]
     },
     "execution_count": 72,
     "metadata": {},
     "output_type": "execute_result"
    }
   ],
   "source": [
    "df.head(n=1)"
   ]
  },
  {
   "cell_type": "markdown",
   "metadata": {},
   "source": [
    "## Data Visualization"
   ]
  },
  {
   "cell_type": "code",
   "execution_count": 73,
   "metadata": {},
   "outputs": [
    {
     "name": "stdout",
     "output_type": "stream",
     "text": [
      "\n",
      "Numbers of rows:  146\n",
      "Numbers of features:  20\n",
      "\n",
      "Numbers of NON-POIs:  128\n",
      "Numbers of POIs:  18\n"
     ]
    }
   ],
   "source": [
    "print(\"\\nNumbers of rows: \", len(df))\n",
    "print(\"Numbers of features: \", len(df.columns))\n",
    "print(\"\\nNumbers of NON-POIs: \", sum(df['poi'] == 0))\n",
    "print(\"Numbers of POIs: \", sum(df['poi'] == 1))"
   ]
  },
  {
   "cell_type": "code",
   "execution_count": 74,
   "metadata": {},
   "outputs": [
    {
     "data": {
      "text/plain": [
       "Text(0, 0.5, 'Qtd.')"
      ]
     },
     "execution_count": 74,
     "metadata": {},
     "output_type": "execute_result"
    },
    {
     "data": {
      "image/png": "[encoded data removed]",
      "text/plain": [
       "<Figure size 648x432 with 1 Axes>"
      ]
     },
     "metadata": {},
     "output_type": "display_data"
    }
   ],
   "source": [
    "sns.set(font_scale=1.25)\n",
    "\n",
    "fig, ax = plt.subplots()\n",
    "fig.set_size_inches(9, 6)\n",
    "\n",
    "sns.set(style=\"darkgrid\")\n",
    "ax = sns.countplot(x=\"poi\", data=df).set_title(\"Numbers of NON-POI's vs POI\")\n",
    "plt.ylabel(\"Qtd.\")"
   ]
  },
  {
   "cell_type": "code",
   "execution_count": 75,
   "metadata": {},
   "outputs": [
    {
     "data": {
      "text/plain": [
       "<matplotlib.axes._subplots.AxesSubplot at 0x1a22cba6d0>"
      ]
     },
     "execution_count": 75,
     "metadata": {},
     "output_type": "execute_result"
    },
    {
     "data": {
      "image/png": "[encoded data removed]",
      "text/plain": [
       "<Figure size 864x720 with 2 Axes>"
      ]
     },
     "metadata": {},
     "output_type": "display_data"
    }
   ],
   "source": [
    "financial_features = ['salary', 'bonus', 'long_term_incentive', 'deferred_income', 'deferral_payments', \\\n",
    "                     'loan_advances', 'other', 'expenses', 'director_fees']\n",
    "plt.figure(figsize=(12,10))\n",
    "cor = df[financial_features].corr()\n",
    "sns.heatmap(cor, annot=True, cmap=plt.cm.Reds)"
   ]
  },
  {
   "cell_type": "code",
   "execution_count": 76,
   "metadata": {},
   "outputs": [
    {
     "data": {
      "image/png": "[encoded data removed]",
      "text/plain": [
       "<Figure size 432x288 with 1 Axes>"
      ]
     },
     "metadata": {},
     "output_type": "display_data"
    }
   ],
   "source": [
    "ax = sns.scatterplot(df[df['poi'] == True].salary, \n",
    "                     df[df['poi'] == True].bonus, color = 'r' )\n",
    "ax = sns.scatterplot(df[df['poi'] == False].salary, \n",
    "                     df[df['poi'] == False].bonus, color = 'b' )\n",
    "\n",
    "plt = ax.get_figure()"
   ]
  },
  {
   "cell_type": "code",
   "execution_count": 77,
   "metadata": {},
   "outputs": [],
   "source": [
    "outlier = df[df['salary'] == df['salary'].max()]\n",
    "outlier\n",
    "df_outliers = df_outliers.append(outlier)"
   ]
  },
  {
   "cell_type": "code",
   "execution_count": 78,
   "metadata": {},
   "outputs": [
    {
     "data": {
      "text/html": [
       "<div>\n",
       "<style scoped>\n",
       "    .dataframe tbody tr th:only-of-type {\n",
       "        vertical-align: middle;\n",
       "    }\n",
       "\n",
       "    .dataframe tbody tr th {\n",
       "        vertical-align: top;\n",
       "    }\n",
       "\n",
       "    .dataframe thead th {\n",
       "        text-align: right;\n",
       "    }\n",
       "</style>\n",
       "<table border=\"1\" class=\"dataframe\">\n",
       "  <thead>\n",
       "    <tr style=\"text-align: right;\">\n",
       "      <th></th>\n",
       "      <th>poi</th>\n",
       "      <th>salary</th>\n",
       "      <th>to_messages</th>\n",
       "      <th>deferral_payments</th>\n",
       "      <th>total_payments</th>\n",
       "      <th>loan_advances</th>\n",
       "      <th>bonus</th>\n",
       "      <th>restricted_stock_deferred</th>\n",
       "      <th>deferred_income</th>\n",
       "      <th>total_stock_value</th>\n",
       "      <th>expenses</th>\n",
       "      <th>from_poi_to_this_person</th>\n",
       "      <th>exercised_stock_options</th>\n",
       "      <th>from_messages</th>\n",
       "      <th>other</th>\n",
       "      <th>from_this_person_to_poi</th>\n",
       "      <th>long_term_incentive</th>\n",
       "      <th>shared_receipt_with_poi</th>\n",
       "      <th>restricted_stock</th>\n",
       "      <th>director_fees</th>\n",
       "    </tr>\n",
       "  </thead>\n",
       "  <tbody>\n",
       "    <tr>\n",
       "      <td>TOTAL</td>\n",
       "      <td>0</td>\n",
       "      <td>26704229.0</td>\n",
       "      <td>0.0</td>\n",
       "      <td>32083396.0</td>\n",
       "      <td>309886585.0</td>\n",
       "      <td>83925000.0</td>\n",
       "      <td>97343619.0</td>\n",
       "      <td>-7576788.0</td>\n",
       "      <td>-27992891.0</td>\n",
       "      <td>434509511.0</td>\n",
       "      <td>5235198.0</td>\n",
       "      <td>0.0</td>\n",
       "      <td>311764000.0</td>\n",
       "      <td>0.0</td>\n",
       "      <td>42667589.0</td>\n",
       "      <td>0.0</td>\n",
       "      <td>48521928.0</td>\n",
       "      <td>0.0</td>\n",
       "      <td>130322299.0</td>\n",
       "      <td>1398517.0</td>\n",
       "    </tr>\n",
       "  </tbody>\n",
       "</table>\n",
       "</div>"
      ],
      "text/plain": [
       "       poi      salary  to_messages  deferral_payments  total_payments  \\\n",
       "TOTAL    0  26704229.0          0.0         32083396.0     309886585.0   \n",
       "\n",
       "       loan_advances       bonus  restricted_stock_deferred  deferred_income  \\\n",
       "TOTAL     83925000.0  97343619.0                 -7576788.0      -27992891.0   \n",
       "\n",
       "       total_stock_value   expenses  from_poi_to_this_person  \\\n",
       "TOTAL        434509511.0  5235198.0                      0.0   \n",
       "\n",
       "       exercised_stock_options  from_messages       other  \\\n",
       "TOTAL              311764000.0            0.0  42667589.0   \n",
       "\n",
       "       from_this_person_to_poi  long_term_incentive  shared_receipt_with_poi  \\\n",
       "TOTAL                      0.0           48521928.0                      0.0   \n",
       "\n",
       "       restricted_stock  director_fees  \n",
       "TOTAL       130322299.0      1398517.0  "
      ]
     },
     "execution_count": 78,
     "metadata": {},
     "output_type": "execute_result"
    }
   ],
   "source": [
    "df_outliers.head()"
   ]
  },
  {
   "cell_type": "code",
   "execution_count": 79,
   "metadata": {},
   "outputs": [],
   "source": [
    "# We find a outliert that is actually the sum of all lines and needs to be remove.\n",
    "df.drop('TOTAL', axis = 0, inplace=True)"
   ]
  },
  {
   "cell_type": "code",
   "execution_count": 80,
   "metadata": {},
   "outputs": [
    {
     "data": {
      "image/png": "[encoded data removed]",
      "text/plain": [
       "<Figure size 432x288 with 1 Axes>"
      ]
     },
     "metadata": {},
     "output_type": "display_data"
    }
   ],
   "source": [
    "ax = sns.scatterplot(df[df['poi'] == True].salary, \n",
    "                     df[df['poi'] == True].bonus, color = 'r' )\n",
    "ax = sns.scatterplot(df[df['poi'] == False].salary, \n",
    "                     df[df['poi'] == False].bonus, color = 'b' )\n",
    "\n",
    "plt = ax.get_figure()"
   ]
  },
  {
   "cell_type": "code",
   "execution_count": 81,
   "metadata": {},
   "outputs": [
    {
     "data": {
      "text/plain": [
       "['ALLEN PHILLIP K',\n",
       " 'BADUM JAMES P',\n",
       " 'BANNANTINE JAMES M',\n",
       " 'BAXTER JOHN C',\n",
       " 'BAY FRANKLIN R',\n",
       " 'BAZELIDES PHILIP J',\n",
       " 'BECK SALLY W',\n",
       " 'BELDEN TIMOTHY N',\n",
       " 'BELFER ROBERT',\n",
       " 'BERBERIAN DAVID',\n",
       " 'BERGSIEKER RICHARD P',\n",
       " 'BHATNAGAR SANJAY',\n",
       " 'BIBI PHILIPPE A',\n",
       " 'BLACHMAN JEREMY M',\n",
       " 'BLAKE JR. NORMAN P',\n",
       " 'BOWEN JR RAYMOND M',\n",
       " 'BROWN MICHAEL',\n",
       " 'BUCHANAN HAROLD G',\n",
       " 'BUTTS ROBERT H',\n",
       " 'BUY RICHARD B',\n",
       " 'CALGER CHRISTOPHER F',\n",
       " 'CARTER REBECCA C',\n",
       " 'CAUSEY RICHARD A',\n",
       " 'CHAN RONNIE',\n",
       " 'CHRISTODOULOU DIOMEDES',\n",
       " 'CLINE KENNETH W',\n",
       " 'COLWELL WESLEY',\n",
       " 'CORDES WILLIAM R',\n",
       " 'COX DAVID',\n",
       " 'CUMBERLAND MICHAEL S',\n",
       " 'DEFFNER JOSEPH M',\n",
       " 'DELAINEY DAVID W',\n",
       " 'DERRICK JR. JAMES V',\n",
       " 'DETMERING TIMOTHY J',\n",
       " 'DIETRICH JANET R',\n",
       " 'DIMICHELE RICHARD G',\n",
       " 'DODSON KEITH',\n",
       " 'DONAHUE JR JEFFREY M',\n",
       " 'DUNCAN JOHN H',\n",
       " 'DURAN WILLIAM D',\n",
       " 'ECHOLS JOHN B',\n",
       " 'ELLIOTT STEVEN',\n",
       " 'FALLON JAMES B',\n",
       " 'FASTOW ANDREW S',\n",
       " 'FITZGERALD JAY L',\n",
       " 'FOWLER PEGGY',\n",
       " 'FOY JOE',\n",
       " 'FREVERT MARK A',\n",
       " 'FUGH JOHN L',\n",
       " 'GAHN ROBERT S',\n",
       " 'GARLAND C KEVIN',\n",
       " 'GATHMANN WILLIAM D',\n",
       " 'GIBBS DANA R',\n",
       " 'GILLIS JOHN',\n",
       " 'GLISAN JR BEN F',\n",
       " 'GOLD JOSEPH',\n",
       " 'GRAMM WENDY L',\n",
       " 'GRAY RODNEY',\n",
       " 'HAEDICKE MARK E',\n",
       " 'HANNON KEVIN P',\n",
       " 'HAUG DAVID L',\n",
       " 'HAYES ROBERT E',\n",
       " 'HAYSLETT RODERICK J',\n",
       " 'HERMANN ROBERT J',\n",
       " 'HICKERSON GARY J',\n",
       " 'HIRKO JOSEPH',\n",
       " 'HORTON STANLEY C',\n",
       " 'HUGHES JAMES A',\n",
       " 'HUMPHREY GENE E',\n",
       " 'IZZO LAWRENCE L',\n",
       " 'JACKSON CHARLENE R',\n",
       " 'JAEDICKE ROBERT',\n",
       " 'KAMINSKI WINCENTY J',\n",
       " 'KEAN STEVEN J',\n",
       " 'KISHKILL JOSEPH G',\n",
       " 'KITCHEN LOUISE',\n",
       " 'KOENIG MARK E',\n",
       " 'KOPPER MICHAEL J',\n",
       " 'LAVORATO JOHN J',\n",
       " 'LAY KENNETH L',\n",
       " 'LEFF DANIEL P',\n",
       " 'LEMAISTRE CHARLES',\n",
       " 'LEWIS RICHARD',\n",
       " 'LINDHOLM TOD A',\n",
       " 'LOCKHART EUGENE E',\n",
       " 'LOWRY CHARLES P',\n",
       " 'MARTIN AMANDA K',\n",
       " 'MCCARTY DANNY J',\n",
       " 'MCCLELLAN GEORGE',\n",
       " 'MCCONNELL MICHAEL S',\n",
       " 'MCDONALD REBECCA',\n",
       " 'MCMAHON JEFFREY',\n",
       " 'MENDELSOHN JOHN',\n",
       " 'METTS MARK',\n",
       " 'MEYER JEROME J',\n",
       " 'MEYER ROCKFORD G',\n",
       " 'MORAN MICHAEL P',\n",
       " 'MORDAUNT KRISTINA M',\n",
       " 'MULLER MARK S',\n",
       " 'MURRAY JULIA H',\n",
       " 'NOLES JAMES L',\n",
       " 'OLSON CINDY K',\n",
       " 'OVERDYKE JR JERE C',\n",
       " 'PAI LOU L',\n",
       " 'PEREIRA PAULO V. FERRAZ',\n",
       " 'PICKERING MARK R',\n",
       " 'PIPER GREGORY F',\n",
       " 'PIRO JIM',\n",
       " 'POWERS WILLIAM',\n",
       " 'PRENTICE JAMES',\n",
       " 'REDMOND BRIAN L',\n",
       " 'REYNOLDS LAWRENCE',\n",
       " 'RICE KENNETH D',\n",
       " 'RIEKER PAULA H',\n",
       " 'SAVAGE FRANK',\n",
       " 'SCRIMSHAW MATTHEW',\n",
       " 'SHANKMAN JEFFREY A',\n",
       " 'SHAPIRO RICHARD S',\n",
       " 'SHARP VICTORIA T',\n",
       " 'SHELBY REX',\n",
       " 'SHERRICK JEFFREY B',\n",
       " 'SHERRIFF JOHN R',\n",
       " 'SKILLING JEFFREY K',\n",
       " 'STABLER FRANK',\n",
       " 'SULLIVAN-SHAKLOVITZ COLLEEN',\n",
       " 'SUNDE MARTIN',\n",
       " 'TAYLOR MITCHELL S',\n",
       " 'THE TRAVEL AGENCY IN THE PARK',\n",
       " 'THORN TERENCE H',\n",
       " 'TILNEY ELIZABETH A',\n",
       " 'UMANOFF ADAM S',\n",
       " 'URQUHART JOHN A',\n",
       " 'WAKEHAM JOHN',\n",
       " 'WALLS JR ROBERT H',\n",
       " 'WALTERS GARETH W',\n",
       " 'WASAFF GEORGE',\n",
       " 'WESTFAHL RICHARD K',\n",
       " 'WHALEY DAVID A',\n",
       " 'WHALLEY LAWRENCE G',\n",
       " 'WHITE JR THOMAS E',\n",
       " 'WINOKUR JR. HERBERT S',\n",
       " 'WODRASKA JOHN',\n",
       " 'WROBEL BRUCE',\n",
       " 'YEAGER F SCOTT',\n",
       " 'YEAP SOON']"
      ]
     },
     "execution_count": 81,
     "metadata": {},
     "output_type": "execute_result"
    }
   ],
   "source": [
    "df.index.tolist()"
   ]
  },
  {
   "cell_type": "code",
   "execution_count": 82,
   "metadata": {},
   "outputs": [],
   "source": [
    "# By looking the all the names, I find something strange, THE TRAVEL AGENCY IN THE PARK isn't a person. \n",
    "#And so needs to be removed.\n",
    "df_outliers = df_outliers.append(df.loc['THE TRAVEL AGENCY IN THE PARK'])"
   ]
  },
  {
   "cell_type": "code",
   "execution_count": 83,
   "metadata": {},
   "outputs": [],
   "source": [
    "df.drop(index='THE TRAVEL AGENCY IN THE PARK', inplace=True)"
   ]
  },
  {
   "cell_type": "code",
   "execution_count": 84,
   "metadata": {},
   "outputs": [],
   "source": [
    "# Checking for users with most zero values.\n",
    "outliers = df[(df['salary'] <= 0) \n",
    "                    & (df['bonus'] <= 0) \n",
    "                    & (df['restricted_stock'] <= 0) \n",
    "                    & (df['total_payments'] <= 0)\n",
    "                    & (df['exercised_stock_options'] <= 0)\n",
    "                    & (df['to_messages'] <= 0)]"
   ]
  },
  {
   "cell_type": "code",
   "execution_count": 85,
   "metadata": {},
   "outputs": [
    {
     "data": {
      "text/html": [
       "<div>\n",
       "<style scoped>\n",
       "    .dataframe tbody tr th:only-of-type {\n",
       "        vertical-align: middle;\n",
       "    }\n",
       "\n",
       "    .dataframe tbody tr th {\n",
       "        vertical-align: top;\n",
       "    }\n",
       "\n",
       "    .dataframe thead th {\n",
       "        text-align: right;\n",
       "    }\n",
       "</style>\n",
       "<table border=\"1\" class=\"dataframe\">\n",
       "  <thead>\n",
       "    <tr style=\"text-align: right;\">\n",
       "      <th></th>\n",
       "      <th>poi</th>\n",
       "      <th>salary</th>\n",
       "      <th>to_messages</th>\n",
       "      <th>deferral_payments</th>\n",
       "      <th>total_payments</th>\n",
       "      <th>loan_advances</th>\n",
       "      <th>bonus</th>\n",
       "      <th>restricted_stock_deferred</th>\n",
       "      <th>deferred_income</th>\n",
       "      <th>total_stock_value</th>\n",
       "      <th>expenses</th>\n",
       "      <th>from_poi_to_this_person</th>\n",
       "      <th>exercised_stock_options</th>\n",
       "      <th>from_messages</th>\n",
       "      <th>other</th>\n",
       "      <th>from_this_person_to_poi</th>\n",
       "      <th>long_term_incentive</th>\n",
       "      <th>shared_receipt_with_poi</th>\n",
       "      <th>restricted_stock</th>\n",
       "      <th>director_fees</th>\n",
       "    </tr>\n",
       "  </thead>\n",
       "  <tbody>\n",
       "    <tr>\n",
       "      <td>LOCKHART EUGENE E</td>\n",
       "      <td>0</td>\n",
       "      <td>0.0</td>\n",
       "      <td>0.0</td>\n",
       "      <td>0.0</td>\n",
       "      <td>0.0</td>\n",
       "      <td>0.0</td>\n",
       "      <td>0.0</td>\n",
       "      <td>0.0</td>\n",
       "      <td>0.0</td>\n",
       "      <td>0.0</td>\n",
       "      <td>0.0</td>\n",
       "      <td>0.0</td>\n",
       "      <td>0.0</td>\n",
       "      <td>0.0</td>\n",
       "      <td>0.0</td>\n",
       "      <td>0.0</td>\n",
       "      <td>0.0</td>\n",
       "      <td>0.0</td>\n",
       "      <td>0.0</td>\n",
       "      <td>0.0</td>\n",
       "    </tr>\n",
       "  </tbody>\n",
       "</table>\n",
       "</div>"
      ],
      "text/plain": [
       "                   poi  salary  to_messages  deferral_payments  \\\n",
       "LOCKHART EUGENE E    0     0.0          0.0                0.0   \n",
       "\n",
       "                   total_payments  loan_advances  bonus  \\\n",
       "LOCKHART EUGENE E             0.0            0.0    0.0   \n",
       "\n",
       "                   restricted_stock_deferred  deferred_income  \\\n",
       "LOCKHART EUGENE E                        0.0              0.0   \n",
       "\n",
       "                   total_stock_value  expenses  from_poi_to_this_person  \\\n",
       "LOCKHART EUGENE E                0.0       0.0                      0.0   \n",
       "\n",
       "                   exercised_stock_options  from_messages  other  \\\n",
       "LOCKHART EUGENE E                      0.0            0.0    0.0   \n",
       "\n",
       "                   from_this_person_to_poi  long_term_incentive  \\\n",
       "LOCKHART EUGENE E                      0.0                  0.0   \n",
       "\n",
       "                   shared_receipt_with_poi  restricted_stock  director_fees  \n",
       "LOCKHART EUGENE E                      0.0               0.0            0.0  "
      ]
     },
     "execution_count": 85,
     "metadata": {},
     "output_type": "execute_result"
    }
   ],
   "source": [
    "outliers"
   ]
  },
  {
   "cell_type": "code",
   "execution_count": 86,
   "metadata": {},
   "outputs": [],
   "source": [
    "df_outliers = df_outliers.append(df.loc['LOCKHART EUGENE E'])\n",
    "df.drop(index='LOCKHART EUGENE E', inplace=True)"
   ]
  },
  {
   "cell_type": "code",
   "execution_count": 88,
   "metadata": {},
   "outputs": [
    {
     "name": "stdout",
     "output_type": "stream",
     "text": [
      "Dataset SIZE :  (143, 20)\n"
     ]
    }
   ],
   "source": [
    "print (\"Dataset SIZE : \", df.shape)"
   ]
  },
  {
   "cell_type": "code",
   "execution_count": 89,
   "metadata": {},
   "outputs": [
    {
     "data": {
      "image/png": "[encoded data removed]",
      "text/plain": [
       "<Figure size 432x288 with 1 Axes>"
      ]
     },
     "metadata": {},
     "output_type": "display_data"
    }
   ],
   "source": [
    "ax = sns.scatterplot(df[df['poi'] == True].salary, \n",
    "                     df[df['poi'] == True].bonus, color = 'r' )\n",
    "ax = sns.scatterplot(df[df['poi'] == False].salary, \n",
    "                     df[df['poi'] == False].bonus, color = 'b' )\n",
    "\n",
    "plt = ax.get_figure()"
   ]
  },
  {
   "cell_type": "code",
   "execution_count": 90,
   "metadata": {},
   "outputs": [
    {
     "data": {
      "text/plain": [
       "<matplotlib.axes._subplots.AxesSubplot at 0x1a233340d0>"
      ]
     },
     "execution_count": 90,
     "metadata": {},
     "output_type": "execute_result"
    },
    {
     "data": {
      "image/png": "[encoded data removed]",
      "text/plain": [
       "<Figure size 432x288 with 2 Axes>"
      ]
     },
     "metadata": {},
     "output_type": "display_data"
    }
   ],
   "source": [
    "cor = df[financial_features].corr()\n",
    "sns.heatmap(cor, annot=True, linewidths=.5)"
   ]
  },
  {
   "cell_type": "code",
   "execution_count": 91,
   "metadata": {},
   "outputs": [
    {
     "data": {
      "image/png": "[encoded data removed]",
      "text/plain": [
       "<Figure size 405.725x360 with 6 Axes>"
      ]
     },
     "metadata": {},
     "output_type": "display_data"
    }
   ],
   "source": [
    "sns.pairplot(df,hue='poi',vars=['salary','bonus'], diag_kind='kde');"
   ]
  },
  {
   "cell_type": "code",
   "execution_count": 99,
   "metadata": {},
   "outputs": [],
   "source": [
    "plt.subplots?"
   ]
  },
  {
   "cell_type": "code",
   "execution_count": 104,
   "metadata": {},
   "outputs": [
    {
     "data": {
      "text/plain": [
       "Text(0.5, 0, '0 = NON-POI      1 = POI')"
      ]
     },
     "execution_count": 104,
     "metadata": {},
     "output_type": "execute_result"
    },
    {
     "data": {
      "image/png": "[encoded data removed]",
      "text/plain": [
       "<Figure size 1080x504 with 1 Axes>"
      ]
     },
     "metadata": {},
     "output_type": "display_data"
    }
   ],
   "source": [
    "import matplotlib.pyplot as plt\n",
    "df_finac_poi = df.groupby(\"poi\")[financial_features].mean()\n",
    "fig, ax = plt.subplots(figsize=(15,7))\n",
    "df_finac_poi.plot.bar(ax=ax).set_title('Mean of financial features')\n",
    "plt.xticks(rotation=0, ha=\"right\")\n",
    "plt.xlabel(\"0 = NON-POI      1 = POI\")"
   ]
  },
  {
   "cell_type": "code",
   "execution_count": 105,
   "metadata": {},
   "outputs": [
    {
     "data": {
      "text/plain": [
       "Text(0.5, 0, '0 = NON-POI      1 = POI')"
      ]
     },
     "execution_count": 105,
     "metadata": {},
     "output_type": "execute_result"
    },
    {
     "data": {
      "image/png": "[encoded data removed]",
      "text/plain": [
       "<Figure size 1080x504 with 1 Axes>"
      ]
     },
     "metadata": {},
     "output_type": "display_data"
    }
   ],
   "source": [
    "import matplotlib.pyplot as plt\n",
    "\n",
    "features_stock = ['exercised_stock_options', 'restricted_stock', 'restricted_stock_deferred']\n",
    "\n",
    "df_stock_poi = df.groupby(\"poi\")[features_stock].mean()\n",
    "\n",
    "fig, ax = plt.subplots(figsize=(15,7))\n",
    "df_stock_poi.plot.bar(ax=ax).set_title('Mean Stock Values')\n",
    "plt.xticks(rotation=0, ha=\"right\")\n",
    "plt.xlabel(\"0 = NON-POI      1 = POI\")"
   ]
  },
  {
   "cell_type": "code",
   "execution_count": 106,
   "metadata": {},
   "outputs": [
    {
     "data": {
      "text/plain": [
       "Text(0.5, 0, '0 = NON-POI      1 = POI')"
      ]
     },
     "execution_count": 106,
     "metadata": {},
     "output_type": "execute_result"
    },
    {
     "data": {
      "image/png": "[encoded data removed]",
      "text/plain": [
       "<Figure size 1080x504 with 1 Axes>"
      ]
     },
     "metadata": {},
     "output_type": "display_data"
    }
   ],
   "source": [
    "totals = ['total_payments','total_stock_value']\n",
    "df_totals_poi = df.groupby(\"poi\", as_index=True)[totals].mean()\n",
    "\n",
    "fig, ax = plt.subplots(figsize=(15,7))\n",
    "df_totals_poi.plot.bar(ax=ax).set_title('Mean of Total Payments')\n",
    "plt.xticks(rotation=0, ha=\"right\")\n",
    "plt.xlabel(\"0 = NON-POI      1 = POI\")"
   ]
  },
  {
   "cell_type": "code",
   "execution_count": 33,
   "metadata": {},
   "outputs": [
    {
     "data": {
      "text/plain": [
       "Text(0.5, 0, '0 = NON-POI      1 = POI')"
      ]
     },
     "execution_count": 33,
     "metadata": {},
     "output_type": "execute_result"
    },
    {
     "data": {
      "image/png": "[encoded data removed]",
      "text/plain": [
       "<Figure size 1080x504 with 1 Axes>"
      ]
     },
     "metadata": {},
     "output_type": "display_data"
    }
   ],
   "source": [
    "messages_features = ['to_messages', 'from_poi_to_this_person', 'from_messages','from_this_person_to_poi']\n",
    "\n",
    "df_messages_poi = df.groupby(\"poi\")[messages_features].mean()\n",
    "\n",
    "fig, ax = plt.subplots(figsize=(15,7))\n",
    "df_messages_poi.plot.bar(ax=ax).set_title('Mean of quantity of exchange messages')\n",
    "plt.xticks(rotation=0, ha=\"right\")\n",
    "plt.xlabel(\"0 = NON-POI      1 = POI\")"
   ]
  },
  {
   "cell_type": "markdown",
   "metadata": {},
   "source": [
    "## Create new feature(s)"
   ]
  },
  {
   "cell_type": "code",
   "execution_count": 107,
   "metadata": {},
   "outputs": [],
   "source": [
    "df['perc_from_poi'] = df.from_poi_to_this_person / df.to_messages\n",
    "df['perc_to_poi'] = df.from_this_person_to_poi / df.from_messages\n",
    "df['bonus_salary'] = df['bonus']/df['salary']\n",
    "df.fillna(value=0, inplace=True)"
   ]
  },
  {
   "cell_type": "code",
   "execution_count": 108,
   "metadata": {},
   "outputs": [
    {
     "data": {
      "text/plain": [
       "count    143.000000\n",
       "mean       0.022831\n",
       "std        0.036495\n",
       "min        0.000000\n",
       "25%        0.000000\n",
       "50%        0.005018\n",
       "75%        0.030020\n",
       "max        0.217341\n",
       "Name: perc_from_poi, dtype: float64"
      ]
     },
     "execution_count": 108,
     "metadata": {},
     "output_type": "execute_result"
    }
   ],
   "source": [
    "df.perc_from_poi.describe()"
   ]
  },
  {
   "cell_type": "code",
   "execution_count": 109,
   "metadata": {},
   "outputs": [
    {
     "data": {
      "text/plain": [
       "count    143.000000\n",
       "mean       0.110691\n",
       "std        0.186359\n",
       "min        0.000000\n",
       "25%        0.000000\n",
       "50%        0.000000\n",
       "75%        0.199218\n",
       "max        1.000000\n",
       "Name: perc_to_poi, dtype: float64"
      ]
     },
     "execution_count": 109,
     "metadata": {},
     "output_type": "execute_result"
    }
   ],
   "source": [
    "df.perc_to_poi.describe()"
   ]
  },
  {
   "cell_type": "code",
   "execution_count": 110,
   "metadata": {},
   "outputs": [
    {
     "data": {
      "text/plain": [
       "Text(0.5, 0, '0 = NON-POI      1 = POI')"
      ]
     },
     "execution_count": 110,
     "metadata": {},
     "output_type": "execute_result"
    },
    {
     "data": {
      "image/png": "[encoded data removed]",
      "text/plain": [
       "<Figure size 1080x504 with 1 Axes>"
      ]
     },
     "metadata": {},
     "output_type": "display_data"
    }
   ],
   "source": [
    "new_message_features = ['perc_from_poi', 'perc_to_poi']\n",
    "\n",
    "df_messages_poi = df.groupby(\"poi\")[new_message_features].mean()\n",
    "\n",
    "fig, ax = plt.subplots(figsize=(15,7))\n",
    "df_messages_poi.plot.bar(ax=ax).set_title('Mean betweeen the new emails features')\n",
    "plt.xticks(rotation=0, ha=\"right\")\n",
    "plt.xlabel(\"0 = NON-POI      1 = POI\")"
   ]
  },
  {
   "cell_type": "code",
   "execution_count": 111,
   "metadata": {},
   "outputs": [
    {
     "data": {
      "text/plain": [
       "Text(0.5, 0, '0 = NON-POI      1 = POI')"
      ]
     },
     "execution_count": 111,
     "metadata": {},
     "output_type": "execute_result"
    },
    {
     "data": {
      "image/png": "[encoded data removed]",
      "text/plain": [
       "<Figure size 1080x504 with 1 Axes>"
      ]
     },
     "metadata": {},
     "output_type": "display_data"
    }
   ],
   "source": [
    "new_bonus_salary_features = ['bonus_salary']\n",
    "\n",
    "df_messages_poi = df.groupby(\"poi\")[new_bonus_salary_features].mean()\n",
    "\n",
    "fig, ax = plt.subplots(figsize=(15,7))\n",
    "df_messages_poi.plot.bar(ax=ax).set_title('Mean of the bonus_salary new feature')\n",
    "plt.xticks(rotation=0, ha=\"right\")\n",
    "plt.xlabel(\"0 = NON-POI      1 = POI\")"
   ]
  },
  {
   "cell_type": "markdown",
   "metadata": {},
   "source": [
    "## Training Set & Test Set"
   ]
  },
  {
   "cell_type": "code",
   "execution_count": 112,
   "metadata": {},
   "outputs": [
    {
     "data": {
      "text/html": [
       "<div>\n",
       "<style scoped>\n",
       "    .dataframe tbody tr th:only-of-type {\n",
       "        vertical-align: middle;\n",
       "    }\n",
       "\n",
       "    .dataframe tbody tr th {\n",
       "        vertical-align: top;\n",
       "    }\n",
       "\n",
       "    .dataframe thead th {\n",
       "        text-align: right;\n",
       "    }\n",
       "</style>\n",
       "<table border=\"1\" class=\"dataframe\">\n",
       "  <thead>\n",
       "    <tr style=\"text-align: right;\">\n",
       "      <th></th>\n",
       "      <th>poi</th>\n",
       "      <th>salary</th>\n",
       "      <th>to_messages</th>\n",
       "      <th>deferral_payments</th>\n",
       "      <th>total_payments</th>\n",
       "      <th>loan_advances</th>\n",
       "      <th>bonus</th>\n",
       "      <th>restricted_stock_deferred</th>\n",
       "      <th>deferred_income</th>\n",
       "      <th>total_stock_value</th>\n",
       "      <th>...</th>\n",
       "      <th>from_messages</th>\n",
       "      <th>other</th>\n",
       "      <th>from_this_person_to_poi</th>\n",
       "      <th>long_term_incentive</th>\n",
       "      <th>shared_receipt_with_poi</th>\n",
       "      <th>restricted_stock</th>\n",
       "      <th>director_fees</th>\n",
       "      <th>perc_from_poi</th>\n",
       "      <th>perc_to_poi</th>\n",
       "      <th>bonus_salary</th>\n",
       "    </tr>\n",
       "  </thead>\n",
       "  <tbody>\n",
       "    <tr>\n",
       "      <td>ALLEN PHILLIP K</td>\n",
       "      <td>0</td>\n",
       "      <td>201955.0</td>\n",
       "      <td>2902.0</td>\n",
       "      <td>2869717.0</td>\n",
       "      <td>4484442.0</td>\n",
       "      <td>0.0</td>\n",
       "      <td>4175000.0</td>\n",
       "      <td>-126027.0</td>\n",
       "      <td>-3081055.0</td>\n",
       "      <td>1729541.0</td>\n",
       "      <td>...</td>\n",
       "      <td>2195.0</td>\n",
       "      <td>152.0</td>\n",
       "      <td>65.0</td>\n",
       "      <td>304805.0</td>\n",
       "      <td>1407.0</td>\n",
       "      <td>126027.0</td>\n",
       "      <td>0.0</td>\n",
       "      <td>0.016196</td>\n",
       "      <td>0.029613</td>\n",
       "      <td>20.672922</td>\n",
       "    </tr>\n",
       "    <tr>\n",
       "      <td>BADUM JAMES P</td>\n",
       "      <td>0</td>\n",
       "      <td>0.0</td>\n",
       "      <td>0.0</td>\n",
       "      <td>178980.0</td>\n",
       "      <td>182466.0</td>\n",
       "      <td>0.0</td>\n",
       "      <td>0.0</td>\n",
       "      <td>0.0</td>\n",
       "      <td>0.0</td>\n",
       "      <td>257817.0</td>\n",
       "      <td>...</td>\n",
       "      <td>0.0</td>\n",
       "      <td>0.0</td>\n",
       "      <td>0.0</td>\n",
       "      <td>0.0</td>\n",
       "      <td>0.0</td>\n",
       "      <td>0.0</td>\n",
       "      <td>0.0</td>\n",
       "      <td>0.000000</td>\n",
       "      <td>0.000000</td>\n",
       "      <td>0.000000</td>\n",
       "    </tr>\n",
       "    <tr>\n",
       "      <td>BANNANTINE JAMES M</td>\n",
       "      <td>0</td>\n",
       "      <td>477.0</td>\n",
       "      <td>566.0</td>\n",
       "      <td>0.0</td>\n",
       "      <td>916197.0</td>\n",
       "      <td>0.0</td>\n",
       "      <td>0.0</td>\n",
       "      <td>-560222.0</td>\n",
       "      <td>-5104.0</td>\n",
       "      <td>5243487.0</td>\n",
       "      <td>...</td>\n",
       "      <td>29.0</td>\n",
       "      <td>864523.0</td>\n",
       "      <td>0.0</td>\n",
       "      <td>0.0</td>\n",
       "      <td>465.0</td>\n",
       "      <td>1757552.0</td>\n",
       "      <td>0.0</td>\n",
       "      <td>0.068905</td>\n",
       "      <td>0.000000</td>\n",
       "      <td>0.000000</td>\n",
       "    </tr>\n",
       "    <tr>\n",
       "      <td>BAXTER JOHN C</td>\n",
       "      <td>0</td>\n",
       "      <td>267102.0</td>\n",
       "      <td>0.0</td>\n",
       "      <td>1295738.0</td>\n",
       "      <td>5634343.0</td>\n",
       "      <td>0.0</td>\n",
       "      <td>1200000.0</td>\n",
       "      <td>0.0</td>\n",
       "      <td>-1386055.0</td>\n",
       "      <td>10623258.0</td>\n",
       "      <td>...</td>\n",
       "      <td>0.0</td>\n",
       "      <td>2660303.0</td>\n",
       "      <td>0.0</td>\n",
       "      <td>1586055.0</td>\n",
       "      <td>0.0</td>\n",
       "      <td>3942714.0</td>\n",
       "      <td>0.0</td>\n",
       "      <td>0.000000</td>\n",
       "      <td>0.000000</td>\n",
       "      <td>4.492666</td>\n",
       "    </tr>\n",
       "    <tr>\n",
       "      <td>BAY FRANKLIN R</td>\n",
       "      <td>0</td>\n",
       "      <td>239671.0</td>\n",
       "      <td>0.0</td>\n",
       "      <td>260455.0</td>\n",
       "      <td>827696.0</td>\n",
       "      <td>0.0</td>\n",
       "      <td>400000.0</td>\n",
       "      <td>-82782.0</td>\n",
       "      <td>-201641.0</td>\n",
       "      <td>63014.0</td>\n",
       "      <td>...</td>\n",
       "      <td>0.0</td>\n",
       "      <td>69.0</td>\n",
       "      <td>0.0</td>\n",
       "      <td>0.0</td>\n",
       "      <td>0.0</td>\n",
       "      <td>145796.0</td>\n",
       "      <td>0.0</td>\n",
       "      <td>0.000000</td>\n",
       "      <td>0.000000</td>\n",
       "      <td>1.668955</td>\n",
       "    </tr>\n",
       "  </tbody>\n",
       "</table>\n",
       "<p>5 rows × 23 columns</p>\n",
       "</div>"
      ],
      "text/plain": [
       "                    poi    salary  to_messages  deferral_payments  \\\n",
       "ALLEN PHILLIP K       0  201955.0       2902.0          2869717.0   \n",
       "BADUM JAMES P         0       0.0          0.0           178980.0   \n",
       "BANNANTINE JAMES M    0     477.0        566.0                0.0   \n",
       "BAXTER JOHN C         0  267102.0          0.0          1295738.0   \n",
       "BAY FRANKLIN R        0  239671.0          0.0           260455.0   \n",
       "\n",
       "                    total_payments  loan_advances      bonus  \\\n",
       "ALLEN PHILLIP K          4484442.0            0.0  4175000.0   \n",
       "BADUM JAMES P             182466.0            0.0        0.0   \n",
       "BANNANTINE JAMES M        916197.0            0.0        0.0   \n",
       "BAXTER JOHN C            5634343.0            0.0  1200000.0   \n",
       "BAY FRANKLIN R            827696.0            0.0   400000.0   \n",
       "\n",
       "                    restricted_stock_deferred  deferred_income  \\\n",
       "ALLEN PHILLIP K                     -126027.0       -3081055.0   \n",
       "BADUM JAMES P                             0.0              0.0   \n",
       "BANNANTINE JAMES M                  -560222.0          -5104.0   \n",
       "BAXTER JOHN C                             0.0       -1386055.0   \n",
       "BAY FRANKLIN R                       -82782.0        -201641.0   \n",
       "\n",
       "                    total_stock_value  ...  from_messages      other  \\\n",
       "ALLEN PHILLIP K             1729541.0  ...         2195.0      152.0   \n",
       "BADUM JAMES P                257817.0  ...            0.0        0.0   \n",
       "BANNANTINE JAMES M          5243487.0  ...           29.0   864523.0   \n",
       "BAXTER JOHN C              10623258.0  ...            0.0  2660303.0   \n",
       "BAY FRANKLIN R                63014.0  ...            0.0       69.0   \n",
       "\n",
       "                    from_this_person_to_poi  long_term_incentive  \\\n",
       "ALLEN PHILLIP K                        65.0             304805.0   \n",
       "BADUM JAMES P                           0.0                  0.0   \n",
       "BANNANTINE JAMES M                      0.0                  0.0   \n",
       "BAXTER JOHN C                           0.0            1586055.0   \n",
       "BAY FRANKLIN R                          0.0                  0.0   \n",
       "\n",
       "                    shared_receipt_with_poi  restricted_stock  director_fees  \\\n",
       "ALLEN PHILLIP K                      1407.0          126027.0            0.0   \n",
       "BADUM JAMES P                           0.0               0.0            0.0   \n",
       "BANNANTINE JAMES M                    465.0         1757552.0            0.0   \n",
       "BAXTER JOHN C                           0.0         3942714.0            0.0   \n",
       "BAY FRANKLIN R                          0.0          145796.0            0.0   \n",
       "\n",
       "                    perc_from_poi  perc_to_poi  bonus_salary  \n",
       "ALLEN PHILLIP K          0.016196     0.029613     20.672922  \n",
       "BADUM JAMES P            0.000000     0.000000      0.000000  \n",
       "BANNANTINE JAMES M       0.068905     0.000000      0.000000  \n",
       "BAXTER JOHN C            0.000000     0.000000      4.492666  \n",
       "BAY FRANKLIN R           0.000000     0.000000      1.668955  \n",
       "\n",
       "[5 rows x 23 columns]"
      ]
     },
     "execution_count": 112,
     "metadata": {},
     "output_type": "execute_result"
    }
   ],
   "source": [
    "df.head()"
   ]
  },
  {
   "cell_type": "code",
   "execution_count": 113,
   "metadata": {},
   "outputs": [
    {
     "data": {
      "text/html": [
       "<div>\n",
       "<style scoped>\n",
       "    .dataframe tbody tr th:only-of-type {\n",
       "        vertical-align: middle;\n",
       "    }\n",
       "\n",
       "    .dataframe tbody tr th {\n",
       "        vertical-align: top;\n",
       "    }\n",
       "\n",
       "    .dataframe thead th {\n",
       "        text-align: right;\n",
       "    }\n",
       "</style>\n",
       "<table border=\"1\" class=\"dataframe\">\n",
       "  <thead>\n",
       "    <tr style=\"text-align: right;\">\n",
       "      <th></th>\n",
       "      <th>salary</th>\n",
       "      <th>to_messages</th>\n",
       "      <th>deferral_payments</th>\n",
       "      <th>total_payments</th>\n",
       "      <th>loan_advances</th>\n",
       "      <th>bonus</th>\n",
       "      <th>restricted_stock_deferred</th>\n",
       "      <th>deferred_income</th>\n",
       "      <th>total_stock_value</th>\n",
       "      <th>expenses</th>\n",
       "      <th>...</th>\n",
       "      <th>from_messages</th>\n",
       "      <th>other</th>\n",
       "      <th>from_this_person_to_poi</th>\n",
       "      <th>long_term_incentive</th>\n",
       "      <th>shared_receipt_with_poi</th>\n",
       "      <th>restricted_stock</th>\n",
       "      <th>director_fees</th>\n",
       "      <th>perc_from_poi</th>\n",
       "      <th>perc_to_poi</th>\n",
       "      <th>bonus_salary</th>\n",
       "    </tr>\n",
       "  </thead>\n",
       "  <tbody>\n",
       "    <tr>\n",
       "      <td>ALLEN PHILLIP K</td>\n",
       "      <td>201955.0</td>\n",
       "      <td>2902.0</td>\n",
       "      <td>2869717.0</td>\n",
       "      <td>4484442.0</td>\n",
       "      <td>0.0</td>\n",
       "      <td>4175000.0</td>\n",
       "      <td>-126027.0</td>\n",
       "      <td>-3081055.0</td>\n",
       "      <td>1729541.0</td>\n",
       "      <td>13868.0</td>\n",
       "      <td>...</td>\n",
       "      <td>2195.0</td>\n",
       "      <td>152.0</td>\n",
       "      <td>65.0</td>\n",
       "      <td>304805.0</td>\n",
       "      <td>1407.0</td>\n",
       "      <td>126027.0</td>\n",
       "      <td>0.0</td>\n",
       "      <td>0.016196</td>\n",
       "      <td>0.029613</td>\n",
       "      <td>20.672922</td>\n",
       "    </tr>\n",
       "    <tr>\n",
       "      <td>BADUM JAMES P</td>\n",
       "      <td>0.0</td>\n",
       "      <td>0.0</td>\n",
       "      <td>178980.0</td>\n",
       "      <td>182466.0</td>\n",
       "      <td>0.0</td>\n",
       "      <td>0.0</td>\n",
       "      <td>0.0</td>\n",
       "      <td>0.0</td>\n",
       "      <td>257817.0</td>\n",
       "      <td>3486.0</td>\n",
       "      <td>...</td>\n",
       "      <td>0.0</td>\n",
       "      <td>0.0</td>\n",
       "      <td>0.0</td>\n",
       "      <td>0.0</td>\n",
       "      <td>0.0</td>\n",
       "      <td>0.0</td>\n",
       "      <td>0.0</td>\n",
       "      <td>0.000000</td>\n",
       "      <td>0.000000</td>\n",
       "      <td>0.000000</td>\n",
       "    </tr>\n",
       "  </tbody>\n",
       "</table>\n",
       "<p>2 rows × 22 columns</p>\n",
       "</div>"
      ],
      "text/plain": [
       "                   salary  to_messages  deferral_payments  total_payments  \\\n",
       "ALLEN PHILLIP K  201955.0       2902.0          2869717.0       4484442.0   \n",
       "BADUM JAMES P         0.0          0.0           178980.0        182466.0   \n",
       "\n",
       "                 loan_advances      bonus  restricted_stock_deferred  \\\n",
       "ALLEN PHILLIP K            0.0  4175000.0                  -126027.0   \n",
       "BADUM JAMES P              0.0        0.0                        0.0   \n",
       "\n",
       "                 deferred_income  total_stock_value  expenses  ...  \\\n",
       "ALLEN PHILLIP K       -3081055.0          1729541.0   13868.0  ...   \n",
       "BADUM JAMES P                0.0           257817.0    3486.0  ...   \n",
       "\n",
       "                 from_messages  other  from_this_person_to_poi  \\\n",
       "ALLEN PHILLIP K         2195.0  152.0                     65.0   \n",
       "BADUM JAMES P              0.0    0.0                      0.0   \n",
       "\n",
       "                 long_term_incentive  shared_receipt_with_poi  \\\n",
       "ALLEN PHILLIP K             304805.0                   1407.0   \n",
       "BADUM JAMES P                    0.0                      0.0   \n",
       "\n",
       "                 restricted_stock  director_fees  perc_from_poi  perc_to_poi  \\\n",
       "ALLEN PHILLIP K          126027.0            0.0       0.016196     0.029613   \n",
       "BADUM JAMES P                 0.0            0.0       0.000000     0.000000   \n",
       "\n",
       "                 bonus_salary  \n",
       "ALLEN PHILLIP K     20.672922  \n",
       "BADUM JAMES P        0.000000  \n",
       "\n",
       "[2 rows x 22 columns]"
      ]
     },
     "execution_count": 113,
     "metadata": {},
     "output_type": "execute_result"
    }
   ],
   "source": [
    "# select columns other than 'poi'\n",
    "cols = [col for col in df.columns if col not in ['poi']]\n",
    "# dropping the 'Opportunity Number'and 'Opportunity Result' columns\n",
    "data = df[cols]\n",
    "#assigning the Poi column as target\n",
    "target = df['poi']\n",
    "data.head(n=2)"
   ]
  },
  {
   "cell_type": "code",
   "execution_count": 114,
   "metadata": {},
   "outputs": [
    {
     "data": {
      "text/plain": [
       "['salary',\n",
       " 'to_messages',\n",
       " 'deferral_payments',\n",
       " 'total_payments',\n",
       " 'loan_advances',\n",
       " 'bonus',\n",
       " 'restricted_stock_deferred',\n",
       " 'deferred_income',\n",
       " 'total_stock_value',\n",
       " 'expenses',\n",
       " 'from_poi_to_this_person',\n",
       " 'exercised_stock_options',\n",
       " 'from_messages',\n",
       " 'other',\n",
       " 'from_this_person_to_poi',\n",
       " 'long_term_incentive',\n",
       " 'shared_receipt_with_poi',\n",
       " 'restricted_stock',\n",
       " 'director_fees',\n",
       " 'perc_from_poi',\n",
       " 'perc_to_poi',\n",
       " 'bonus_salary']"
      ]
     },
     "execution_count": 114,
     "metadata": {},
     "output_type": "execute_result"
    }
   ],
   "source": [
    "cols"
   ]
  },
  {
   "cell_type": "code",
   "execution_count": 115,
   "metadata": {},
   "outputs": [
    {
     "data": {
      "text/plain": [
       "ALLEN PHILLIP K          0\n",
       "BADUM JAMES P            0\n",
       "BANNANTINE JAMES M       0\n",
       "BAXTER JOHN C            0\n",
       "BAY FRANKLIN R           0\n",
       "                        ..\n",
       "WINOKUR JR. HERBERT S    0\n",
       "WODRASKA JOHN            0\n",
       "WROBEL BRUCE             0\n",
       "YEAGER F SCOTT           1\n",
       "YEAP SOON                0\n",
       "Name: poi, Length: 143, dtype: int64"
      ]
     },
     "execution_count": 115,
     "metadata": {},
     "output_type": "execute_result"
    }
   ],
   "source": [
    "target"
   ]
  },
  {
   "cell_type": "code",
   "execution_count": 116,
   "metadata": {},
   "outputs": [],
   "source": [
    "y = df.poi\n",
    "X = df.drop('poi', axis=1)"
   ]
  },
  {
   "cell_type": "code",
   "execution_count": 117,
   "metadata": {},
   "outputs": [],
   "source": [
    "#split data set into train and test \n",
    "X_train, X_test, y_train, y_test = train_test_split(data, target,test_size=0.3, random_state=42)"
   ]
  },
  {
   "cell_type": "code",
   "execution_count": 118,
   "metadata": {},
   "outputs": [
    {
     "name": "stdout",
     "output_type": "stream",
     "text": [
      "[[-0.89821457 -0.54333006 -0.27853333 ... -0.60484845 -0.56918966\n",
      "  -0.61964173]\n",
      " [ 0.55705872 -0.49761445 -0.27853333 ... -0.60484845  0.07000527\n",
      "   0.20599391]\n",
      " [-0.05435072 -0.54333006 -0.27853333 ... -0.60484845 -0.56918966\n",
      "  -0.2636822 ]\n",
      " ...\n",
      " [-0.89821457 -0.54333006 -0.27853333 ... -0.60484845 -0.56918966\n",
      "  -0.61964173]\n",
      " [ 0.79552337 -0.18163889 -0.27853333 ...  0.59901737 -0.38734972\n",
      "  -0.08759713]\n",
      " [ 0.31438507 -0.54333006 -0.27853333 ... -0.60484845 -0.56918966\n",
      "   0.61894256]]\n"
     ]
    }
   ],
   "source": [
    "X_train_scaled = preprocessing.scale(X_train)\n",
    "print (X_train_scaled)"
   ]
  },
  {
   "cell_type": "markdown",
   "metadata": {},
   "source": [
    "## Naive-Bayes"
   ]
  },
  {
   "cell_type": "code",
   "execution_count": 131,
   "metadata": {},
   "outputs": [],
   "source": [
    "clf = GaussianNB()\n",
    "clf.fit(X_train, y_train)\n",
    "\n",
    "y_pred = clf.predict(X_test)\n",
    "score = clf.score(X_test, y_test)"
   ]
  },
  {
   "cell_type": "code",
   "execution_count": 132,
   "metadata": {},
   "outputs": [
    {
     "name": "stdout",
     "output_type": "stream",
     "text": [
      "0.8837209302325582\n"
     ]
    }
   ],
   "source": [
    "print (score)"
   ]
  },
  {
   "cell_type": "code",
   "execution_count": 133,
   "metadata": {},
   "outputs": [
    {
     "name": "stdout",
     "output_type": "stream",
     "text": [
      "GaussianNB accuracy score :  0.8837209302325582\n",
      "GaussianNB precision score :  0.5\n",
      "GaussianNB recall score :  0.4\n",
      "GaussianNB f1 score :  0.4444444444444445\n"
     ]
    }
   ],
   "source": [
    "#evaluate scores\n",
    "print (\"GaussianNB accuracy score : \",accuracy_score(y_test, y_pred))\n",
    "print (\"GaussianNB precision score : \",precision_score(y_test, y_pred))\n",
    "print (\"GaussianNB recall score : \",recall_score(y_test, y_pred))\n",
    "print (\"GaussianNB f1 score : \",f1_score(y_test, y_pred))"
   ]
  },
  {
   "cell_type": "code",
   "execution_count": 134,
   "metadata": {},
   "outputs": [
    {
     "name": "stdout",
     "output_type": "stream",
     "text": [
      "              precision    recall  f1-score   support\n",
      "\n",
      "           0       0.92      0.95      0.94        38\n",
      "           1       0.50      0.40      0.44         5\n",
      "\n",
      "    accuracy                           0.88        43\n",
      "   macro avg       0.71      0.67      0.69        43\n",
      "weighted avg       0.87      0.88      0.88        43\n",
      "\n"
     ]
    }
   ],
   "source": [
    "print(classification_report(y_test, y_pred))"
   ]
  },
  {
   "cell_type": "code",
   "execution_count": 136,
   "metadata": {},
   "outputs": [
    {
     "data": {
      "text/plain": [
       "(1.9, 0.0)"
      ]
     },
     "execution_count": 136,
     "metadata": {},
     "output_type": "execute_result"
    },
    {
     "data": {
      "image/png": "[encoded data removed]",
      "text/plain": [
       "<Figure size 432x288 with 2 Axes>"
      ]
     },
     "metadata": {},
     "output_type": "display_data"
    }
   ],
   "source": [
    "from sklearn.metrics import confusion_matrix\n",
    "confusion_matrix = confusion_matrix(y_test, y_pred)\n",
    "sns.heatmap(confusion_matrix, annot=True, fmt=\".0f\", linewidths=.5, square = True, cmap = 'Blues_r');\n",
    "ax=plt.gca()\n",
    "ax.set_ylim(len(confusion_matrix)-0.1, 0.0)"
   ]
  },
  {
   "cell_type": "markdown",
   "metadata": {},
   "source": [
    "## K-Neighbors Classifier"
   ]
  },
  {
   "cell_type": "code",
   "execution_count": 137,
   "metadata": {},
   "outputs": [],
   "source": [
    "clf = KNeighborsClassifier(n_neighbors=3)\n",
    "clf.fit(X_train, y_train)\n",
    "y_pred = clf.fit(X_train, y_train).predict(X_test)"
   ]
  },
  {
   "cell_type": "code",
   "execution_count": 138,
   "metadata": {},
   "outputs": [
    {
     "name": "stdout",
     "output_type": "stream",
     "text": [
      "KNeighbors accuracy score :  0.9069767441860465\n",
      "KNeighbors precision score :  0.6666666666666666\n",
      "KNeighbors recall score :  0.4\n",
      "KNeighbors f1 score :  0.5\n"
     ]
    }
   ],
   "source": [
    "# evaluate scores\n",
    "print (\"KNeighbors accuracy score : \",accuracy_score(y_test, y_pred))\n",
    "print (\"KNeighbors precision score : \",precision_score(y_test, y_pred))\n",
    "print (\"KNeighbors recall score : \",recall_score(y_test, y_pred))\n",
    "print (\"KNeighbors f1 score : \",f1_score(y_test, y_pred))"
   ]
  },
  {
   "cell_type": "code",
   "execution_count": 141,
   "metadata": {},
   "outputs": [
    {
     "name": "stdout",
     "output_type": "stream",
     "text": [
      "              precision    recall  f1-score   support\n",
      "\n",
      "           0       0.93      0.97      0.95        38\n",
      "           1       0.67      0.40      0.50         5\n",
      "\n",
      "    accuracy                           0.91        43\n",
      "   macro avg       0.80      0.69      0.72        43\n",
      "weighted avg       0.89      0.91      0.90        43\n",
      "\n"
     ]
    }
   ],
   "source": [
    "print(classification_report(y_test, y_pred))"
   ]
  },
  {
   "cell_type": "code",
   "execution_count": 139,
   "metadata": {},
   "outputs": [
    {
     "data": {
      "text/plain": [
       "(1.9, 0.0)"
      ]
     },
     "execution_count": 139,
     "metadata": {},
     "output_type": "execute_result"
    },
    {
     "data": {
      "image/png": "[encoded data removed]",
      "text/plain": [
       "<Figure size 432x288 with 2 Axes>"
      ]
     },
     "metadata": {},
     "output_type": "display_data"
    }
   ],
   "source": [
    "from sklearn.metrics import confusion_matrix\n",
    "confusion_matrix = confusion_matrix(y_test, y_pred)\n",
    "sns.heatmap(confusion_matrix, annot=True, fmt=\".0f\", linewidths=.5, square = True, cmap = 'Blues_r');\n",
    "ax=plt.gca()\n",
    "ax.set_ylim(len(confusion_matrix)-0.1, 0.0)"
   ]
  },
  {
   "cell_type": "code",
   "execution_count": null,
   "metadata": {},
   "outputs": [],
   "source": []
  },
  {
   "cell_type": "code",
   "execution_count": null,
   "metadata": {},
   "outputs": [],
   "source": []
  }
 ],
 "metadata": {
  "kernelspec": {
   "display_name": "Python 3",
   "language": "python",
   "name": "python3"
  },
  "language_info": {
   "codemirror_mode": {
    "name": "ipython",
    "version": 3
   },
   "file_extension": ".py",
   "mimetype": "text/x-python",
   "name": "python",
   "nbconvert_exporter": "python",
   "pygments_lexer": "ipython3",
   "version": "3.7.4"
  }
 },
 "nbformat": 4,
 "nbformat_minor": 2
}
